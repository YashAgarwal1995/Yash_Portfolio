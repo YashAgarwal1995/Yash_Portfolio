{
  "nbformat": 4,
  "nbformat_minor": 0,
  "metadata": {
    "colab": {
      "name": "K-Means clustering.ipynb",
      "provenance": []
    },
    "kernelspec": {
      "name": "python3",
      "display_name": "Python 3"
    }
  },
  "cells": [
    {
      "cell_type": "code",
      "metadata": {
        "colab": {
          "base_uri": "https://localhost:8080/"
        },
        "id": "iG3gnKBwcMHu",
        "outputId": "e6890fc3-4816-4200-cfe1-c7b206104fa0"
      },
      "source": [
        "from google.colab import drive\r\n",
        "drive.mount('/content/drive')"
      ],
      "execution_count": 1,
      "outputs": [
        {
          "output_type": "stream",
          "text": [
            "Mounted at /content/drive\n"
          ],
          "name": "stdout"
        }
      ]
    },
    {
      "cell_type": "code",
      "metadata": {
        "id": "ED6-TTZbcV4_"
      },
      "source": [
        "import pandas as pd\r\n",
        "\r\n",
        "from sklearn.feature_extraction import text\r\n",
        "from sklearn.feature_extraction.text import TfidfVectorizer\r\n",
        "from sklearn.cluster import KMeans\r\n",
        "from gensim.models.phrases import Phrases, Phraser\r\n",
        "\r\n",
        "import multiprocessing\r\n",
        "from gensim.models import Word2Vec\r\n",
        "from time import time  # To time our operations\r\n",
        "from collections import defaultdict  # For word frequency\r\n",
        "import spacy  # For preprocessing\r\n",
        "import logging "
      ],
      "execution_count": 98,
      "outputs": []
    },
    {
      "cell_type": "code",
      "metadata": {
        "id": "9bu3fatXjpVT"
      },
      "source": [
        "df = pd.read_csv('/content/Preprocessed data.csv', encoding= 'latin1')\r\n"
      ],
      "execution_count": 99,
      "outputs": []
    },
    {
      "cell_type": "code",
      "metadata": {
        "id": "4hhsLFiSR3Tx"
      },
      "source": [
        "import re\r\n",
        "df['text_modified']=df['text_modified'].apply(str)\r\n",
        "def remove_hash(text):\r\n",
        "    line=re.sub(r'#\\w+','',text)\r\n",
        "    return line\r\n",
        "def remove_punct(text):\r\n",
        "    line = re.sub(r'[]!\"$%&\\'?()*+,./:;=#@[\\\\^_`{|}~-]+', '', text)\r\n",
        "    return line\r\n",
        "df['text_modified']=df['text_modified'].apply(lambda x:remove_hash(x))\r\n",
        "df['text_modified']=df['text_modified'].apply(lambda x:remove_punct(x))"
      ],
      "execution_count": 100,
      "outputs": []
    },
    {
      "cell_type": "code",
      "metadata": {
        "id": "G0LVXH4aPIjs"
      },
      "source": [
        "sent = [row.split() for row in df['text_modified']]"
      ],
      "execution_count": 101,
      "outputs": []
    },
    {
      "cell_type": "code",
      "metadata": {
        "id": "nPKwklqMPSO-"
      },
      "source": [
        "phrases = Phrases(sent, min_count=30, progress_per=10000)\r\n"
      ],
      "execution_count": 102,
      "outputs": []
    },
    {
      "cell_type": "code",
      "metadata": {
        "id": "qAuwje9wPb7U"
      },
      "source": [
        "bigram = Phraser(phrases)\r\n",
        "sentences = bigram[sent]"
      ],
      "execution_count": 103,
      "outputs": []
    },
    {
      "cell_type": "code",
      "metadata": {
        "id": "tTP7JdTyLGCi"
      },
      "source": [
        "w2v_model = Word2Vec(min_count=20,\r\n",
        "                     window=4,\r\n",
        "                     size=300,\r\n",
        "                     sample=1e-5, \r\n",
        "                     alpha=0.03, \r\n",
        "                     min_alpha=0.0007, \r\n",
        "                     negative=20,\r\n",
        "                     workers=cores-1)"
      ],
      "execution_count": 104,
      "outputs": []
    },
    {
      "cell_type": "code",
      "metadata": {
        "colab": {
          "base_uri": "https://localhost:8080/"
        },
        "id": "2WqHy0ppMvEx",
        "outputId": "f367eb3d-bbff-44fe-be19-58cb969e8ba3"
      },
      "source": [
        "t = time()\r\n",
        "\r\n",
        "w2v_model.build_vocab(sentences, progress_per=10000)\r\n",
        "\r\n",
        "print('Time to build vocab: {} mins'.format(round((time() - t) / 60, 2)))"
      ],
      "execution_count": 105,
      "outputs": [
        {
          "output_type": "stream",
          "text": [
            "Time to build vocab: 0.01 mins\n"
          ],
          "name": "stdout"
        }
      ]
    },
    {
      "cell_type": "code",
      "metadata": {
        "colab": {
          "base_uri": "https://localhost:8080/"
        },
        "id": "zyB4ueCPNLse",
        "outputId": "adc14542-a1b3-4b05-bccf-ef64f87e6285"
      },
      "source": [
        "t = time()\r\n",
        "\r\n",
        "w2v_model.train(sentences, total_examples=w2v_model.corpus_count, epochs=30, report_delay=1)\r\n",
        "\r\n",
        "print('Time to train the model: {} mins'.format(round((time() - t) / 60, 2)))"
      ],
      "execution_count": 106,
      "outputs": [
        {
          "output_type": "stream",
          "text": [
            "Time to train the model: 0.18 mins\n"
          ],
          "name": "stdout"
        }
      ]
    },
    {
      "cell_type": "code",
      "metadata": {
        "id": "RBPS7mm8P6cM"
      },
      "source": [
        "w2v_model.init_sims(replace=True)"
      ],
      "execution_count": 107,
      "outputs": []
    },
    {
      "cell_type": "code",
      "metadata": {
        "colab": {
          "base_uri": "https://localhost:8080/"
        },
        "id": "NfWpLdPVQFVM",
        "outputId": "69b92ad7-9c68-4131-a677-18976605b332"
      },
      "source": [
        "w2v_model.wv.most_similar(positive=[\"Paine\"])\r\n"
      ],
      "execution_count": 108,
      "outputs": [
        {
          "output_type": "execute_result",
          "data": {
            "text/plain": [
              "[('made', 0.9999335408210754),\n",
              " ('England', 0.9999326467514038),\n",
              " ('getting', 0.9999314546585083),\n",
              " ('heart', 0.9999306201934814),\n",
              " ('beat', 0.9999302625656128),\n",
              " ('For', 0.999929666519165),\n",
              " ('hit', 0.9999286532402039),\n",
              " ('history', 0.9999279975891113),\n",
              " ('mean', 0.9999275803565979),\n",
              " ('bowled', 0.9999271631240845)]"
            ]
          },
          "metadata": {
            "tags": []
          },
          "execution_count": 108
        }
      ]
    },
    {
      "cell_type": "code",
      "metadata": {
        "colab": {
          "base_uri": "https://localhost:8080/"
        },
        "id": "0FvCb_3kQW94",
        "outputId": "11801f0f-967b-4df3-ad0b-f0a53da07116"
      },
      "source": [
        "w2v_model.wv.most_similar(positive=[\"Pant\"])\r\n"
      ],
      "execution_count": 109,
      "outputs": [
        {
          "output_type": "execute_result",
          "data": {
            "text/plain": [
              "[('shown', 0.9999291896820068),\n",
              " ('According', 0.9999285936355591),\n",
              " ('drop', 0.9999280571937561),\n",
              " ('least', 0.9999278783798218),\n",
              " ('every', 0.9999275803565979),\n",
              " ('AM', 0.9999273419380188),\n",
              " ('showed', 0.9999269247055054),\n",
              " ('hope', 0.9999268054962158),\n",
              " ('tough', 0.9999266862869263),\n",
              " ('Siraj', 0.9999266862869263)]"
            ]
          },
          "metadata": {
            "tags": []
          },
          "execution_count": 109
        }
      ]
    },
    {
      "cell_type": "code",
      "metadata": {
        "id": "jxSYsworyg2-"
      },
      "source": [
        "from sklearn.feature_extraction import text\r\n",
        "from sklearn.feature_extraction.text import TfidfVectorizer\r\n",
        "from sklearn.cluster import KMeans\r\n",
        "from nltk.tokenize import RegexpTokenizer\r\n",
        "from nltk.stem.snowball import SnowballStemmer\r\n",
        "%matplotlib inline"
      ],
      "execution_count": null,
      "outputs": []
    },
    {
      "cell_type": "code",
      "metadata": {
        "id": "odaymfedzHIt"
      },
      "source": [
        "vectorizer = TfidfVectorizer( max_features = 1000)\r\n",
        "desc = df['lemmatized'].values\r\n",
        "X3 = vectorizer.fit_transform(desc)\r\n",
        "\r\n",
        "words = vectorizer.get_feature_names()"
      ],
      "execution_count": 93,
      "outputs": []
    },
    {
      "cell_type": "markdown",
      "metadata": {
        "id": "MOkcaUpK62GP"
      },
      "source": [
        "**ELBOW METHOD TO CHECK NO. OF CLUSTERS**\r\n",
        "\r\n",
        "\r\n",
        "As a rule of thumb, the optimal number of clusters are chosen according to 'elbow criteria' in the graph.\r\n"
      ]
    },
    {
      "cell_type": "code",
      "metadata": {
        "colab": {
          "base_uri": "https://localhost:8080/",
          "height": 295
        },
        "id": "vEKgnQnkxr1B",
        "outputId": "c4e5fdc7-d508-4ced-e696-3d960e73c7ff"
      },
      "source": [
        "wcss = []\r\n",
        "for i in range(1,20):\r\n",
        "    kmeans = KMeans(n_clusters=i,init='k-means++',max_iter=300,n_init=10,random_state=0)\r\n",
        "    kmeans.fit(X3)\r\n",
        "    wcss.append(kmeans.inertia_)\r\n",
        "plt.plot(range(1,20),wcss)\r\n",
        "plt.title('The Elbow Method')\r\n",
        "plt.xlabel('Number of clusters')\r\n",
        "plt.ylabel('WCSS')\r\n",
        "plt.savefig('elbow.png')\r\n",
        "plt.show()"
      ],
      "execution_count": 97,
      "outputs": [
        {
          "output_type": "display_data",
          "data": {
            "image/png": "[encoded data removed]",
            "text/plain": [
              "<Figure size 432x288 with 1 Axes>"
            ]
          },
          "metadata": {
            "tags": [],
            "needs_background": "light"
          }
        }
      ]
    },
    {
      "cell_type": "markdown",
      "metadata": {
        "id": "LJGrUjAn8DrC"
      },
      "source": [
        "\r\n",
        "\r\n",
        "*   As observed in the graph there is a minor elbow around 8 number of clusters. \r\n",
        "*   Hence K-Means clustering method is not suitable to seperate our data into 3 sentiment categories.\r\n",
        "\r\n",
        "**Potential reasons for K-Means failing ?**\r\n",
        "\r\n",
        "*   Small dataset.\r\n",
        "*   Each cluster should have equal size of observations.\r\n",
        "\r\n",
        "\r\n",
        "\r\n",
        "\r\n",
        "\r\n",
        "\r\n"
      ]
    }
  ]
}
