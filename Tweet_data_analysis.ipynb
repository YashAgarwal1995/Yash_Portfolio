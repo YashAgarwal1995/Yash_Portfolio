{
  "nbformat": 4,
  "nbformat_minor": 0,
  "metadata": {
    "colab": {
      "name": "Tweet data analysis.ipynb",
      "provenance": []
    },
    "kernelspec": {
      "name": "python3",
      "display_name": "Python 3"
    }
  },
  "cells": [
    {
      "cell_type": "code",
      "metadata": {
        "colab": {
          "base_uri": "https://localhost:8080/"
        },
        "id": "ZY0rGcKhAUnr",
        "outputId": "5a68c55d-5cfc-486f-d138-c5f4e4ce69d9"
      },
      "source": [
        "from google.colab import drive\r\n",
        "drive.mount('/content/drive')"
      ],
      "execution_count": 1,
      "outputs": [
        {
          "output_type": "stream",
          "text": [
            "Mounted at /content/drive\n"
          ],
          "name": "stdout"
        }
      ]
    },
    {
      "cell_type": "code",
      "metadata": {
        "id": "sUYOIbYsBBzP"
      },
      "source": [
        "import pandas as pd\r\n",
        "import plotly.graph_objs as go\r\n",
        "from plotly.offline import init_notebook_mode, iplot\r\n",
        "import plotly.express as px"
      ],
      "execution_count": 3,
      "outputs": []
    },
    {
      "cell_type": "code",
      "metadata": {
        "id": "SysmK5xqBblz"
      },
      "source": [
        "df = pd.read_csv('/content/Preprocessed data.csv', encoding= 'latin1')\r\n",
        "vader = pd.read_csv('/content/VADER.csv', encoding= 'latin1')\r\n"
      ],
      "execution_count": 4,
      "outputs": []
    },
    {
      "cell_type": "code",
      "metadata": {
        "colab": {
          "base_uri": "https://localhost:8080/",
          "height": 530
        },
        "id": "0LX1oH2wBick",
        "outputId": "9135ebfc-ac8b-4841-9783-6f182c922722"
      },
      "source": [
        "df.head()"
      ],
      "execution_count": 5,
      "outputs": [
        {
          "output_type": "execute_result",
          "data": {
            "text/html": [
              "<div>\n",
              "<style scoped>\n",
              "    .dataframe tbody tr th:only-of-type {\n",
              "        vertical-align: middle;\n",
              "    }\n",
              "\n",
              "    .dataframe tbody tr th {\n",
              "        vertical-align: top;\n",
              "    }\n",
              "\n",
              "    .dataframe thead th {\n",
              "        text-align: right;\n",
              "    }\n",
              "</style>\n",
              "<table border=\"1\" class=\"dataframe\">\n",
              "  <thead>\n",
              "    <tr style=\"text-align: right;\">\n",
              "      <th></th>\n",
              "      <th>tweet_id</th>\n",
              "      <th>Full_text</th>\n",
              "      <th>tweet_timestamp</th>\n",
              "      <th>user_location</th>\n",
              "      <th>date</th>\n",
              "      <th>time</th>\n",
              "      <th>text_length</th>\n",
              "      <th>tokens</th>\n",
              "      <th>No_stopwords</th>\n",
              "      <th>lemmatized</th>\n",
              "      <th>joined_string</th>\n",
              "      <th>text</th>\n",
              "      <th>text_modified</th>\n",
              "    </tr>\n",
              "  </thead>\n",
              "  <tbody>\n",
              "    <tr>\n",
              "      <th>0</th>\n",
              "      <td>1.348558e+18</td>\n",
              "      <td>One similarity between Paracetemol Ashwin Both...</td>\n",
              "      <td>2021-01-11 09:10:57</td>\n",
              "      <td>NaN</td>\n",
              "      <td>2021-01-11</td>\n",
              "      <td>09:10:57</td>\n",
              "      <td>9</td>\n",
              "      <td>['One', 'similarity', 'between', 'Paracetemol'...</td>\n",
              "      <td>['One', 'similarity', 'Paracetemol', 'Ashwin',...</td>\n",
              "      <td>['One', 'similarity', 'Paracetemol', 'Ashwin',...</td>\n",
              "      <td>['One similarity Paracetemol Ashwin Both PAINE...</td>\n",
              "      <td>['One similarity Paracetemol Ashwin Both PAINE...</td>\n",
              "      <td>One similarity Paracetemol Ashwin Both PAINE k...</td>\n",
              "    </tr>\n",
              "    <tr>\n",
              "      <th>1</th>\n",
              "      <td>1.348558e+18</td>\n",
              "      <td>seriously ????? Is removing the batsmens guar...</td>\n",
              "      <td>2021-01-11 09:12:13</td>\n",
              "      <td>Bengaluru South, Karnataka</td>\n",
              "      <td>2021-01-11</td>\n",
              "      <td>09:12:13</td>\n",
              "      <td>12</td>\n",
              "      <td>['seriously', '?', '?', '?', 'Is', 'removing',...</td>\n",
              "      <td>['seriously', '?', '?', '?', 'Is', 'removing',...</td>\n",
              "      <td>['seriously', '?', '?', '?', 'Is', 'removing',...</td>\n",
              "      <td>['seriously ? ? ? Is removing batsman guard op...</td>\n",
              "      <td>['seriously ? ? ? Is removing batsman guard op...</td>\n",
              "      <td>seriously ? ? ? Is removing batsman guard oppo...</td>\n",
              "    </tr>\n",
              "    <tr>\n",
              "      <th>2</th>\n",
              "      <td>1.348558e+18</td>\n",
              "      <td>If Rahul Dravid is The wall then Ravichandran ...</td>\n",
              "      <td>2021-01-11 09:12:19</td>\n",
              "      <td>Halifax/Huddersfield</td>\n",
              "      <td>2021-01-11</td>\n",
              "      <td>09:12:19</td>\n",
              "      <td>21</td>\n",
              "      <td>['If', 'Rahul', 'Dravid', 'is', 'The', 'wall',...</td>\n",
              "      <td>['If', 'Rahul', 'Dravid', 'wall', 'Ravichandra...</td>\n",
              "      <td>['If', 'Rahul', 'Dravid', 'wall', 'Ravichandra...</td>\n",
              "      <td>['If Rahul Dravid wall Ravichandran Ashwin Han...</td>\n",
              "      <td>['If Rahul Dravid The wall Ravichandran Ashwin...</td>\n",
              "      <td>If Rahul Dravid wall Ravichandran Ashwin Hanum...</td>\n",
              "    </tr>\n",
              "    <tr>\n",
              "      <th>3</th>\n",
              "      <td>1.348558e+18</td>\n",
              "      <td>give it back its an Ash Tag not hashtag</td>\n",
              "      <td>2021-01-11 09:12:29</td>\n",
              "      <td>Singapore</td>\n",
              "      <td>2021-01-11</td>\n",
              "      <td>09:12:29</td>\n",
              "      <td>9</td>\n",
              "      <td>['give', 'it', 'back', 'its', 'an', 'Ash', 'Ta...</td>\n",
              "      <td>['give', 'back', 'Ash', 'Tag', 'hashtag']</td>\n",
              "      <td>['give', 'back', 'Ash', 'Tag', 'hashtag']</td>\n",
              "      <td>['give back Ash Tag hashtag']</td>\n",
              "      <td>['give back Ã¢ÂÂ Ash Tag hashtag']</td>\n",
              "      <td>give back Ash Tag hashtag</td>\n",
              "    </tr>\n",
              "    <tr>\n",
              "      <th>4</th>\n",
              "      <td>1.348559e+18</td>\n",
              "      <td>Let me tell U a story Once upon a time Kangar...</td>\n",
              "      <td>2021-01-11 09:12:56</td>\n",
              "      <td>Sri Lanka</td>\n",
              "      <td>2021-01-11</td>\n",
              "      <td>09:12:56</td>\n",
              "      <td>45</td>\n",
              "      <td>['Let', 'me', 'tell', 'U', 'a', 'story', 'Once...</td>\n",
              "      <td>['Let', 'tell', 'U', 'story', 'Once', 'upon', ...</td>\n",
              "      <td>['Let', 'tell', 'U', 'story', 'Once', 'upon', ...</td>\n",
              "      <td>['Let tell U story Once upon time Kangaroos Ti...</td>\n",
              "      <td>['Let tell U story Once upon time Kangaroos Ti...</td>\n",
              "      <td>Let tell U story Once upon time Kangaroos Tige...</td>\n",
              "    </tr>\n",
              "  </tbody>\n",
              "</table>\n",
              "</div>"
            ],
            "text/plain": [
              "       tweet_id  ...                                      text_modified\n",
              "0  1.348558e+18  ...  One similarity Paracetemol Ashwin Both PAINE k...\n",
              "1  1.348558e+18  ...  seriously ? ? ? Is removing batsman guard oppo...\n",
              "2  1.348558e+18  ...  If Rahul Dravid wall Ravichandran Ashwin Hanum...\n",
              "3  1.348558e+18  ...                          give back Ash Tag hashtag\n",
              "4  1.348559e+18  ...  Let tell U story Once upon time Kangaroos Tige...\n",
              "\n",
              "[5 rows x 13 columns]"
            ]
          },
          "metadata": {
            "tags": []
          },
          "execution_count": 5
        }
      ]
    },
    {
      "cell_type": "code",
      "metadata": {
        "colab": {
          "base_uri": "https://localhost:8080/",
          "height": 417
        },
        "id": "-9pXBKksCS-k",
        "outputId": "3842daf3-9b5a-4bcd-efc1-c465d9150c9e"
      },
      "source": [
        "missed = pd.DataFrame()\r\n",
        "missed['column'] = df.columns\r\n",
        "\r\n",
        "missed['percent'] = [round(100* df[col].isnull().sum() / len(df), 2) for col in df.columns]\r\n",
        "missed = missed.sort_values('percent')\r\n",
        "missed = missed[missed['percent']>0]\r\n",
        "\r\n",
        "fig = px.bar(\r\n",
        "    missed, \r\n",
        "    x='percent', \r\n",
        "    y=\"column\", \r\n",
        "    orientation='h', \r\n",
        "    title='Missed values percent for every column (percent > 0)', \r\n",
        "    height=400, \r\n",
        "    width=600\r\n",
        ")\r\n",
        "\r\n",
        "fig.show()"
      ],
      "execution_count": 6,
      "outputs": [
        {
          "output_type": "display_data",
          "data": {
            "text/html": [
              "<html>\n",
              "<head><meta charset=\"utf-8\" /></head>\n",
              "<body>\n",
              "    <div>\n",
              "            <script src=\"https://cdnjs.cloudflare.com/ajax/libs/mathjax/2.7.5/MathJax.js?config=TeX-AMS-MML_SVG\"></script><script type=\"text/javascript\">if (window.MathJax) {MathJax.Hub.Config({SVG: {font: \"STIX-Web\"}});}</script>\n",
              "                <script type=\"text/javascript\">window.PlotlyConfig = {MathJaxConfig: 'local'};</script>\n",
              "        <script src=\"https://cdn.plot.ly/plotly-latest.min.js\"></script>    \n",
              "            <div id=\"caf0f81f-e2ba-48b7-a663-d6d7c0e1ec87\" class=\"plotly-graph-div\" style=\"height:400px; width:600px;\"></div>\n",
              "            <script type=\"text/javascript\">\n",
              "                \n",
              "                    window.PLOTLYENV=window.PLOTLYENV || {};\n",
              "                    \n",
              "                if (document.getElementById(\"caf0f81f-e2ba-48b7-a663-d6d7c0e1ec87\")) {\n",
              "                    Plotly.newPlot(\n",
              "                        'caf0f81f-e2ba-48b7-a663-d6d7c0e1ec87',\n",
              "                        [{\"alignmentgroup\": \"True\", \"hoverlabel\": {\"namelength\": 0}, \"hovertemplate\": \"percent=%{x}<br>column=%{y}\", \"legendgroup\": \"\", \"marker\": {\"color\": \"#636efa\"}, \"name\": \"\", \"offsetgroup\": \"\", \"orientation\": \"h\", \"showlegend\": false, \"textposition\": \"auto\", \"type\": \"bar\", \"x\": [0.1, 27.24], \"xaxis\": \"x\", \"y\": [\"text_modified\", \"user_location\"], \"yaxis\": \"y\"}],\n",
              "                        {\"barmode\": \"relative\", \"height\": 400, \"legend\": {\"tracegroupgap\": 0}, \"template\": {\"data\": {\"bar\": [{\"error_x\": {\"color\": \"#2a3f5f\"}, \"error_y\": {\"color\": \"#2a3f5f\"}, \"marker\": {\"line\": {\"color\": \"#E5ECF6\", \"width\": 0.5}}, \"type\": \"bar\"}], \"barpolar\": [{\"marker\": {\"line\": {\"color\": \"#E5ECF6\", \"width\": 0.5}}, \"type\": \"barpolar\"}], \"carpet\": [{\"aaxis\": {\"endlinecolor\": \"#2a3f5f\", \"gridcolor\": \"white\", \"linecolor\": \"white\", \"minorgridcolor\": \"white\", \"startlinecolor\": \"#2a3f5f\"}, \"baxis\": {\"endlinecolor\": \"#2a3f5f\", \"gridcolor\": \"white\", \"linecolor\": \"white\", \"minorgridcolor\": \"white\", \"startlinecolor\": \"#2a3f5f\"}, \"type\": \"carpet\"}], \"choropleth\": [{\"colorbar\": {\"outlinewidth\": 0, \"ticks\": \"\"}, \"type\": \"choropleth\"}], \"contour\": [{\"colorbar\": {\"outlinewidth\": 0, \"ticks\": \"\"}, \"colorscale\": [[0.0, \"#0d0887\"], [0.1111111111111111, \"#46039f\"], [0.2222222222222222, \"#7201a8\"], [0.3333333333333333, \"#9c179e\"], [0.4444444444444444, \"#bd3786\"], [0.5555555555555556, \"#d8576b\"], [0.6666666666666666, \"#ed7953\"], [0.7777777777777778, \"#fb9f3a\"], [0.8888888888888888, \"#fdca26\"], [1.0, \"#f0f921\"]], \"type\": \"contour\"}], \"contourcarpet\": [{\"colorbar\": {\"outlinewidth\": 0, \"ticks\": \"\"}, \"type\": \"contourcarpet\"}], \"heatmap\": [{\"colorbar\": {\"outlinewidth\": 0, \"ticks\": \"\"}, \"colorscale\": [[0.0, \"#0d0887\"], [0.1111111111111111, \"#46039f\"], [0.2222222222222222, \"#7201a8\"], [0.3333333333333333, \"#9c179e\"], [0.4444444444444444, \"#bd3786\"], [0.5555555555555556, \"#d8576b\"], [0.6666666666666666, \"#ed7953\"], [0.7777777777777778, \"#fb9f3a\"], [0.8888888888888888, \"#fdca26\"], [1.0, \"#f0f921\"]], \"type\": \"heatmap\"}], \"heatmapgl\": [{\"colorbar\": {\"outlinewidth\": 0, \"ticks\": \"\"}, \"colorscale\": [[0.0, \"#0d0887\"], [0.1111111111111111, \"#46039f\"], [0.2222222222222222, \"#7201a8\"], [0.3333333333333333, \"#9c179e\"], [0.4444444444444444, \"#bd3786\"], [0.5555555555555556, \"#d8576b\"], [0.6666666666666666, \"#ed7953\"], [0.7777777777777778, \"#fb9f3a\"], [0.8888888888888888, \"#fdca26\"], [1.0, \"#f0f921\"]], \"type\": \"heatmapgl\"}], \"histogram\": [{\"marker\": {\"colorbar\": {\"outlinewidth\": 0, \"ticks\": \"\"}}, \"type\": \"histogram\"}], \"histogram2d\": [{\"colorbar\": {\"outlinewidth\": 0, \"ticks\": \"\"}, \"colorscale\": [[0.0, \"#0d0887\"], [0.1111111111111111, \"#46039f\"], [0.2222222222222222, \"#7201a8\"], [0.3333333333333333, \"#9c179e\"], [0.4444444444444444, \"#bd3786\"], [0.5555555555555556, \"#d8576b\"], [0.6666666666666666, \"#ed7953\"], [0.7777777777777778, \"#fb9f3a\"], [0.8888888888888888, \"#fdca26\"], [1.0, \"#f0f921\"]], \"type\": \"histogram2d\"}], \"histogram2dcontour\": [{\"colorbar\": {\"outlinewidth\": 0, \"ticks\": \"\"}, \"colorscale\": [[0.0, \"#0d0887\"], [0.1111111111111111, \"#46039f\"], [0.2222222222222222, \"#7201a8\"], [0.3333333333333333, \"#9c179e\"], [0.4444444444444444, \"#bd3786\"], [0.5555555555555556, \"#d8576b\"], [0.6666666666666666, \"#ed7953\"], [0.7777777777777778, \"#fb9f3a\"], [0.8888888888888888, \"#fdca26\"], [1.0, \"#f0f921\"]], \"type\": \"histogram2dcontour\"}], \"mesh3d\": [{\"colorbar\": {\"outlinewidth\": 0, \"ticks\": \"\"}, \"type\": \"mesh3d\"}], \"parcoords\": [{\"line\": {\"colorbar\": {\"outlinewidth\": 0, \"ticks\": \"\"}}, \"type\": \"parcoords\"}], \"pie\": [{\"automargin\": true, \"type\": \"pie\"}], \"scatter\": [{\"marker\": {\"colorbar\": {\"outlinewidth\": 0, \"ticks\": \"\"}}, \"type\": \"scatter\"}], \"scatter3d\": [{\"line\": {\"colorbar\": {\"outlinewidth\": 0, \"ticks\": \"\"}}, \"marker\": {\"colorbar\": {\"outlinewidth\": 0, \"ticks\": \"\"}}, \"type\": \"scatter3d\"}], \"scattercarpet\": [{\"marker\": {\"colorbar\": {\"outlinewidth\": 0, \"ticks\": \"\"}}, \"type\": \"scattercarpet\"}], \"scattergeo\": [{\"marker\": {\"colorbar\": {\"outlinewidth\": 0, \"ticks\": \"\"}}, \"type\": \"scattergeo\"}], \"scattergl\": [{\"marker\": {\"colorbar\": {\"outlinewidth\": 0, \"ticks\": \"\"}}, \"type\": \"scattergl\"}], \"scattermapbox\": [{\"marker\": {\"colorbar\": {\"outlinewidth\": 0, \"ticks\": \"\"}}, \"type\": \"scattermapbox\"}], \"scatterpolar\": [{\"marker\": {\"colorbar\": {\"outlinewidth\": 0, \"ticks\": \"\"}}, \"type\": \"scatterpolar\"}], \"scatterpolargl\": [{\"marker\": {\"colorbar\": {\"outlinewidth\": 0, \"ticks\": \"\"}}, \"type\": \"scatterpolargl\"}], \"scatterternary\": [{\"marker\": {\"colorbar\": {\"outlinewidth\": 0, \"ticks\": \"\"}}, \"type\": \"scatterternary\"}], \"surface\": [{\"colorbar\": {\"outlinewidth\": 0, \"ticks\": \"\"}, \"colorscale\": [[0.0, \"#0d0887\"], [0.1111111111111111, \"#46039f\"], [0.2222222222222222, \"#7201a8\"], [0.3333333333333333, \"#9c179e\"], [0.4444444444444444, \"#bd3786\"], [0.5555555555555556, \"#d8576b\"], [0.6666666666666666, \"#ed7953\"], [0.7777777777777778, \"#fb9f3a\"], [0.8888888888888888, \"#fdca26\"], [1.0, \"#f0f921\"]], \"type\": \"surface\"}], \"table\": [{\"cells\": {\"fill\": {\"color\": \"#EBF0F8\"}, \"line\": {\"color\": \"white\"}}, \"header\": {\"fill\": {\"color\": \"#C8D4E3\"}, \"line\": {\"color\": \"white\"}}, \"type\": \"table\"}]}, \"layout\": {\"annotationdefaults\": {\"arrowcolor\": \"#2a3f5f\", \"arrowhead\": 0, \"arrowwidth\": 1}, \"coloraxis\": {\"colorbar\": {\"outlinewidth\": 0, \"ticks\": \"\"}}, \"colorscale\": {\"diverging\": [[0, \"#8e0152\"], [0.1, \"#c51b7d\"], [0.2, \"#de77ae\"], [0.3, \"#f1b6da\"], [0.4, \"#fde0ef\"], [0.5, \"#f7f7f7\"], [0.6, \"#e6f5d0\"], [0.7, \"#b8e186\"], [0.8, \"#7fbc41\"], [0.9, \"#4d9221\"], [1, \"#276419\"]], \"sequential\": [[0.0, \"#0d0887\"], [0.1111111111111111, \"#46039f\"], [0.2222222222222222, \"#7201a8\"], [0.3333333333333333, \"#9c179e\"], [0.4444444444444444, \"#bd3786\"], [0.5555555555555556, \"#d8576b\"], [0.6666666666666666, \"#ed7953\"], [0.7777777777777778, \"#fb9f3a\"], [0.8888888888888888, \"#fdca26\"], [1.0, \"#f0f921\"]], \"sequentialminus\": [[0.0, \"#0d0887\"], [0.1111111111111111, \"#46039f\"], [0.2222222222222222, \"#7201a8\"], [0.3333333333333333, \"#9c179e\"], [0.4444444444444444, \"#bd3786\"], [0.5555555555555556, \"#d8576b\"], [0.6666666666666666, \"#ed7953\"], [0.7777777777777778, \"#fb9f3a\"], [0.8888888888888888, \"#fdca26\"], [1.0, \"#f0f921\"]]}, \"colorway\": [\"#636efa\", \"#EF553B\", \"#00cc96\", \"#ab63fa\", \"#FFA15A\", \"#19d3f3\", \"#FF6692\", \"#B6E880\", \"#FF97FF\", \"#FECB52\"], \"font\": {\"color\": \"#2a3f5f\"}, \"geo\": {\"bgcolor\": \"white\", \"lakecolor\": \"white\", \"landcolor\": \"#E5ECF6\", \"showlakes\": true, \"showland\": true, \"subunitcolor\": \"white\"}, \"hoverlabel\": {\"align\": \"left\"}, \"hovermode\": \"closest\", \"mapbox\": {\"style\": \"light\"}, \"paper_bgcolor\": \"white\", \"plot_bgcolor\": \"#E5ECF6\", \"polar\": {\"angularaxis\": {\"gridcolor\": \"white\", \"linecolor\": \"white\", \"ticks\": \"\"}, \"bgcolor\": \"#E5ECF6\", \"radialaxis\": {\"gridcolor\": \"white\", \"linecolor\": \"white\", \"ticks\": \"\"}}, \"scene\": {\"xaxis\": {\"backgroundcolor\": \"#E5ECF6\", \"gridcolor\": \"white\", \"gridwidth\": 2, \"linecolor\": \"white\", \"showbackground\": true, \"ticks\": \"\", \"zerolinecolor\": \"white\"}, \"yaxis\": {\"backgroundcolor\": \"#E5ECF6\", \"gridcolor\": \"white\", \"gridwidth\": 2, \"linecolor\": \"white\", \"showbackground\": true, \"ticks\": \"\", \"zerolinecolor\": \"white\"}, \"zaxis\": {\"backgroundcolor\": \"#E5ECF6\", \"gridcolor\": \"white\", \"gridwidth\": 2, \"linecolor\": \"white\", \"showbackground\": true, \"ticks\": \"\", \"zerolinecolor\": \"white\"}}, \"shapedefaults\": {\"line\": {\"color\": \"#2a3f5f\"}}, \"ternary\": {\"aaxis\": {\"gridcolor\": \"white\", \"linecolor\": \"white\", \"ticks\": \"\"}, \"baxis\": {\"gridcolor\": \"white\", \"linecolor\": \"white\", \"ticks\": \"\"}, \"bgcolor\": \"#E5ECF6\", \"caxis\": {\"gridcolor\": \"white\", \"linecolor\": \"white\", \"ticks\": \"\"}}, \"title\": {\"x\": 0.05}, \"xaxis\": {\"automargin\": true, \"gridcolor\": \"white\", \"linecolor\": \"white\", \"ticks\": \"\", \"title\": {\"standoff\": 15}, \"zerolinecolor\": \"white\", \"zerolinewidth\": 2}, \"yaxis\": {\"automargin\": true, \"gridcolor\": \"white\", \"linecolor\": \"white\", \"ticks\": \"\", \"title\": {\"standoff\": 15}, \"zerolinecolor\": \"white\", \"zerolinewidth\": 2}}}, \"title\": {\"text\": \"Missed values percent for every column (percent > 0)\"}, \"width\": 600, \"xaxis\": {\"anchor\": \"y\", \"domain\": [0.0, 1.0], \"title\": {\"text\": \"percent\"}}, \"yaxis\": {\"anchor\": \"x\", \"domain\": [0.0, 1.0], \"title\": {\"text\": \"column\"}}},\n",
              "                        {\"responsive\": true}\n",
              "                    ).then(function(){\n",
              "                            \n",
              "var gd = document.getElementById('caf0f81f-e2ba-48b7-a663-d6d7c0e1ec87');\n",
              "var x = new MutationObserver(function (mutations, observer) {{\n",
              "        var display = window.getComputedStyle(gd).display;\n",
              "        if (!display || display === 'none') {{\n",
              "            console.log([gd, 'removed!']);\n",
              "            Plotly.purge(gd);\n",
              "            observer.disconnect();\n",
              "        }}\n",
              "}});\n",
              "\n",
              "// Listen for the removal of the full notebook cells\n",
              "var notebookContainer = gd.closest('#notebook-container');\n",
              "if (notebookContainer) {{\n",
              "    x.observe(notebookContainer, {childList: true});\n",
              "}}\n",
              "\n",
              "// Listen for the clearing of the current output cell\n",
              "var outputEl = gd.closest('.output');\n",
              "if (outputEl) {{\n",
              "    x.observe(outputEl, {childList: true});\n",
              "}}\n",
              "\n",
              "                        })\n",
              "                };\n",
              "                \n",
              "            </script>\n",
              "        </div>\n",
              "</body>\n",
              "</html>"
            ]
          },
          "metadata": {
            "tags": []
          }
        }
      ]
    },
    {
      "cell_type": "code",
      "metadata": {
        "colab": {
          "base_uri": "https://localhost:8080/",
          "height": 817
        },
        "id": "jHE3ZvjYCYyB",
        "outputId": "51e58565-f9b7-4a4f-ca9d-f52553320cf0"
      },
      "source": [
        "ds = df['user_location'].value_counts().reset_index()\r\n",
        "ds.columns = ['user_location', 'count']\r\n",
        "ds = ds[ds['user_location']!='NA']\r\n",
        "ds = ds.sort_values(['count'])\r\n",
        "\r\n",
        "fig = px.bar(\r\n",
        "    ds.tail(40), \r\n",
        "    x=\"count\", \r\n",
        "    y=\"user_location\", \r\n",
        "    orientation='h', title='Top 40 user locations by number of tweets', \r\n",
        "    width=800, \r\n",
        "    height=800\r\n",
        ")\r\n",
        "\r\n",
        "fig.show()"
      ],
      "execution_count": 8,
      "outputs": [
        {
          "output_type": "display_data",
          "data": {
            "text/html": [
              "<html>\n",
              "<head><meta charset=\"utf-8\" /></head>\n",
              "<body>\n",
              "    <div>\n",
              "            <script src=\"https://cdnjs.cloudflare.com/ajax/libs/mathjax/2.7.5/MathJax.js?config=TeX-AMS-MML_SVG\"></script><script type=\"text/javascript\">if (window.MathJax) {MathJax.Hub.Config({SVG: {font: \"STIX-Web\"}});}</script>\n",
              "                <script type=\"text/javascript\">window.PlotlyConfig = {MathJaxConfig: 'local'};</script>\n",
              "        <script src=\"https://cdn.plot.ly/plotly-latest.min.js\"></script>    \n",
              "            <div id=\"b0ac9163-2378-4a24-939d-41d4a6b3b40f\" class=\"plotly-graph-div\" style=\"height:800px; width:800px;\"></div>\n",
              "            <script type=\"text/javascript\">\n",
              "                \n",
              "                    window.PLOTLYENV=window.PLOTLYENV || {};\n",
              "                    \n",
              "                if (document.getElementById(\"b0ac9163-2378-4a24-939d-41d4a6b3b40f\")) {\n",
              "                    Plotly.newPlot(\n",
              "                        'b0ac9163-2378-4a24-939d-41d4a6b3b40f',\n",
              "                        [{\"alignmentgroup\": \"True\", \"hoverlabel\": {\"namelength\": 0}, \"hovertemplate\": \"count=%{x}<br>user_location=%{y}\", \"legendgroup\": \"\", \"marker\": {\"color\": \"#636efa\"}, \"name\": \"\", \"offsetgroup\": \"\", \"orientation\": \"h\", \"showlegend\": false, \"textposition\": \"auto\", \"type\": \"bar\", \"x\": [21, 21, 21, 22, 23, 23, 23, 24, 25, 26, 26, 26, 27, 27, 28, 28, 28, 29, 33, 34, 39, 39, 41, 47, 47, 49, 49, 52, 60, 61, 78, 93, 99, 105, 126, 129, 157, 299, 409, 885], \"xaxis\": \"x\", \"y\": [\"Delhi, India\", \"Varanasi, India\", \"Singapore\", \"Sydney\", \"Sydney, New South Wales\", \"Bhubaneshwar, India\", \"Pakistan\", \"Jaipur, India\", \"India \", \"Dubai, United Arab Emirates\", \"Hyderabad\", \"Kolkata\", \"Bangalore, India\", \"Gurgaon, India\", \"\\u00c3\\u00a0\\u00c2\\u00a4\\u00c2\\u00a8\\u00c3\\u00a0\\u00c2\\u00a4\\u00c2\\u0088 \\u00c3\\u00a0\\u00c2\\u00a4\\u00c2\\u00a6\\u00c3\\u00a0\\u00c2\\u00a4\\u00c2\\u00bf\\u00c3\\u00a0\\u00c2\\u00a4\\u00c2\\u00b2\\u00c3\\u00a0\\u00c2\\u00a5\\u00c2\\u008d\\u00c3\\u00a0\\u00c2\\u00a4\\u00c2\\u00b2\\u00c3\\u00a0\\u00c2\\u00a5\\u00c2\\u0080, \\u00c3\\u00a0\\u00c2\\u00a4\\u00c2\\u00ad\\u00c3\\u00a0\\u00c2\\u00a4\\u00c2\\u00be\\u00c3\\u00a0\\u00c2\\u00a4\\u00c2\\u00b0\\u00c3\\u00a0\\u00c2\\u00a4\\u00c2\\u00a4\", \"Gurgaon\", \"Bengaluru South, India\", \"Lucknow, India\", \"india\", \"Bengaluru\", \"At Cow Corner \", \"Global\", \"Delhi\", \"United States\", \"London, England\", \"Pune\", \"Chennai\", \"Kolkata, India\", \"Bangalore\", \"Rawalpindi,Pakistan\", \"New Delhi\", \"Noida, India\", \"Chennai, India\", \"Pune, India\", \"Hyderabad, India\", \"Bengaluru, India\", \"Mumbai\", \"New Delhi, India\", \"Mumbai, India\", \"India\"], \"yaxis\": \"y\"}],\n",
              "                        {\"barmode\": \"relative\", \"height\": 800, \"legend\": {\"tracegroupgap\": 0}, \"template\": {\"data\": {\"bar\": [{\"error_x\": {\"color\": \"#2a3f5f\"}, \"error_y\": {\"color\": \"#2a3f5f\"}, \"marker\": {\"line\": {\"color\": \"#E5ECF6\", \"width\": 0.5}}, \"type\": \"bar\"}], \"barpolar\": [{\"marker\": {\"line\": {\"color\": \"#E5ECF6\", \"width\": 0.5}}, \"type\": \"barpolar\"}], \"carpet\": [{\"aaxis\": {\"endlinecolor\": \"#2a3f5f\", \"gridcolor\": \"white\", \"linecolor\": \"white\", \"minorgridcolor\": \"white\", \"startlinecolor\": \"#2a3f5f\"}, \"baxis\": {\"endlinecolor\": \"#2a3f5f\", \"gridcolor\": \"white\", \"linecolor\": \"white\", \"minorgridcolor\": \"white\", \"startlinecolor\": \"#2a3f5f\"}, \"type\": \"carpet\"}], \"choropleth\": [{\"colorbar\": {\"outlinewidth\": 0, \"ticks\": \"\"}, \"type\": \"choropleth\"}], \"contour\": [{\"colorbar\": {\"outlinewidth\": 0, \"ticks\": \"\"}, \"colorscale\": [[0.0, \"#0d0887\"], [0.1111111111111111, \"#46039f\"], [0.2222222222222222, \"#7201a8\"], [0.3333333333333333, \"#9c179e\"], [0.4444444444444444, \"#bd3786\"], [0.5555555555555556, \"#d8576b\"], [0.6666666666666666, \"#ed7953\"], [0.7777777777777778, \"#fb9f3a\"], [0.8888888888888888, \"#fdca26\"], [1.0, \"#f0f921\"]], \"type\": \"contour\"}], \"contourcarpet\": [{\"colorbar\": {\"outlinewidth\": 0, \"ticks\": \"\"}, \"type\": \"contourcarpet\"}], \"heatmap\": [{\"colorbar\": {\"outlinewidth\": 0, \"ticks\": \"\"}, \"colorscale\": [[0.0, \"#0d0887\"], [0.1111111111111111, \"#46039f\"], [0.2222222222222222, \"#7201a8\"], [0.3333333333333333, \"#9c179e\"], [0.4444444444444444, \"#bd3786\"], [0.5555555555555556, \"#d8576b\"], [0.6666666666666666, \"#ed7953\"], [0.7777777777777778, \"#fb9f3a\"], [0.8888888888888888, \"#fdca26\"], [1.0, \"#f0f921\"]], \"type\": \"heatmap\"}], \"heatmapgl\": [{\"colorbar\": {\"outlinewidth\": 0, \"ticks\": \"\"}, \"colorscale\": [[0.0, \"#0d0887\"], [0.1111111111111111, \"#46039f\"], [0.2222222222222222, \"#7201a8\"], [0.3333333333333333, \"#9c179e\"], [0.4444444444444444, \"#bd3786\"], [0.5555555555555556, \"#d8576b\"], [0.6666666666666666, \"#ed7953\"], [0.7777777777777778, \"#fb9f3a\"], [0.8888888888888888, \"#fdca26\"], [1.0, \"#f0f921\"]], \"type\": \"heatmapgl\"}], \"histogram\": [{\"marker\": {\"colorbar\": {\"outlinewidth\": 0, \"ticks\": \"\"}}, \"type\": \"histogram\"}], \"histogram2d\": [{\"colorbar\": {\"outlinewidth\": 0, \"ticks\": \"\"}, \"colorscale\": [[0.0, \"#0d0887\"], [0.1111111111111111, \"#46039f\"], [0.2222222222222222, \"#7201a8\"], [0.3333333333333333, \"#9c179e\"], [0.4444444444444444, \"#bd3786\"], [0.5555555555555556, \"#d8576b\"], [0.6666666666666666, \"#ed7953\"], [0.7777777777777778, \"#fb9f3a\"], [0.8888888888888888, \"#fdca26\"], [1.0, \"#f0f921\"]], \"type\": \"histogram2d\"}], \"histogram2dcontour\": [{\"colorbar\": {\"outlinewidth\": 0, \"ticks\": \"\"}, \"colorscale\": [[0.0, \"#0d0887\"], [0.1111111111111111, \"#46039f\"], [0.2222222222222222, \"#7201a8\"], [0.3333333333333333, \"#9c179e\"], [0.4444444444444444, \"#bd3786\"], [0.5555555555555556, \"#d8576b\"], [0.6666666666666666, \"#ed7953\"], [0.7777777777777778, \"#fb9f3a\"], [0.8888888888888888, \"#fdca26\"], [1.0, \"#f0f921\"]], \"type\": \"histogram2dcontour\"}], \"mesh3d\": [{\"colorbar\": {\"outlinewidth\": 0, \"ticks\": \"\"}, \"type\": \"mesh3d\"}], \"parcoords\": [{\"line\": {\"colorbar\": {\"outlinewidth\": 0, \"ticks\": \"\"}}, \"type\": \"parcoords\"}], \"pie\": [{\"automargin\": true, \"type\": \"pie\"}], \"scatter\": [{\"marker\": {\"colorbar\": {\"outlinewidth\": 0, \"ticks\": \"\"}}, \"type\": \"scatter\"}], \"scatter3d\": [{\"line\": {\"colorbar\": {\"outlinewidth\": 0, \"ticks\": \"\"}}, \"marker\": {\"colorbar\": {\"outlinewidth\": 0, \"ticks\": \"\"}}, \"type\": \"scatter3d\"}], \"scattercarpet\": [{\"marker\": {\"colorbar\": {\"outlinewidth\": 0, \"ticks\": \"\"}}, \"type\": \"scattercarpet\"}], \"scattergeo\": [{\"marker\": {\"colorbar\": {\"outlinewidth\": 0, \"ticks\": \"\"}}, \"type\": \"scattergeo\"}], \"scattergl\": [{\"marker\": {\"colorbar\": {\"outlinewidth\": 0, \"ticks\": \"\"}}, \"type\": \"scattergl\"}], \"scattermapbox\": [{\"marker\": {\"colorbar\": {\"outlinewidth\": 0, \"ticks\": \"\"}}, \"type\": \"scattermapbox\"}], \"scatterpolar\": [{\"marker\": {\"colorbar\": {\"outlinewidth\": 0, \"ticks\": \"\"}}, \"type\": \"scatterpolar\"}], \"scatterpolargl\": [{\"marker\": {\"colorbar\": {\"outlinewidth\": 0, \"ticks\": \"\"}}, \"type\": \"scatterpolargl\"}], \"scatterternary\": [{\"marker\": {\"colorbar\": {\"outlinewidth\": 0, \"ticks\": \"\"}}, \"type\": \"scatterternary\"}], \"surface\": [{\"colorbar\": {\"outlinewidth\": 0, \"ticks\": \"\"}, \"colorscale\": [[0.0, \"#0d0887\"], [0.1111111111111111, \"#46039f\"], [0.2222222222222222, \"#7201a8\"], [0.3333333333333333, \"#9c179e\"], [0.4444444444444444, \"#bd3786\"], [0.5555555555555556, \"#d8576b\"], [0.6666666666666666, \"#ed7953\"], [0.7777777777777778, \"#fb9f3a\"], [0.8888888888888888, \"#fdca26\"], [1.0, \"#f0f921\"]], \"type\": \"surface\"}], \"table\": [{\"cells\": {\"fill\": {\"color\": \"#EBF0F8\"}, \"line\": {\"color\": \"white\"}}, \"header\": {\"fill\": {\"color\": \"#C8D4E3\"}, \"line\": {\"color\": \"white\"}}, \"type\": \"table\"}]}, \"layout\": {\"annotationdefaults\": {\"arrowcolor\": \"#2a3f5f\", \"arrowhead\": 0, \"arrowwidth\": 1}, \"coloraxis\": {\"colorbar\": {\"outlinewidth\": 0, \"ticks\": \"\"}}, \"colorscale\": {\"diverging\": [[0, \"#8e0152\"], [0.1, \"#c51b7d\"], [0.2, \"#de77ae\"], [0.3, \"#f1b6da\"], [0.4, \"#fde0ef\"], [0.5, \"#f7f7f7\"], [0.6, \"#e6f5d0\"], [0.7, \"#b8e186\"], [0.8, \"#7fbc41\"], [0.9, \"#4d9221\"], [1, \"#276419\"]], \"sequential\": [[0.0, \"#0d0887\"], [0.1111111111111111, \"#46039f\"], [0.2222222222222222, \"#7201a8\"], [0.3333333333333333, \"#9c179e\"], [0.4444444444444444, \"#bd3786\"], [0.5555555555555556, \"#d8576b\"], [0.6666666666666666, \"#ed7953\"], [0.7777777777777778, \"#fb9f3a\"], [0.8888888888888888, \"#fdca26\"], [1.0, \"#f0f921\"]], \"sequentialminus\": [[0.0, \"#0d0887\"], [0.1111111111111111, \"#46039f\"], [0.2222222222222222, \"#7201a8\"], [0.3333333333333333, \"#9c179e\"], [0.4444444444444444, \"#bd3786\"], [0.5555555555555556, \"#d8576b\"], [0.6666666666666666, \"#ed7953\"], [0.7777777777777778, \"#fb9f3a\"], [0.8888888888888888, \"#fdca26\"], [1.0, \"#f0f921\"]]}, \"colorway\": [\"#636efa\", \"#EF553B\", \"#00cc96\", \"#ab63fa\", \"#FFA15A\", \"#19d3f3\", \"#FF6692\", \"#B6E880\", \"#FF97FF\", \"#FECB52\"], \"font\": {\"color\": \"#2a3f5f\"}, \"geo\": {\"bgcolor\": \"white\", \"lakecolor\": \"white\", \"landcolor\": \"#E5ECF6\", \"showlakes\": true, \"showland\": true, \"subunitcolor\": \"white\"}, \"hoverlabel\": {\"align\": \"left\"}, \"hovermode\": \"closest\", \"mapbox\": {\"style\": \"light\"}, \"paper_bgcolor\": \"white\", \"plot_bgcolor\": \"#E5ECF6\", \"polar\": {\"angularaxis\": {\"gridcolor\": \"white\", \"linecolor\": \"white\", \"ticks\": \"\"}, \"bgcolor\": \"#E5ECF6\", \"radialaxis\": {\"gridcolor\": \"white\", \"linecolor\": \"white\", \"ticks\": \"\"}}, \"scene\": {\"xaxis\": {\"backgroundcolor\": \"#E5ECF6\", \"gridcolor\": \"white\", \"gridwidth\": 2, \"linecolor\": \"white\", \"showbackground\": true, \"ticks\": \"\", \"zerolinecolor\": \"white\"}, \"yaxis\": {\"backgroundcolor\": \"#E5ECF6\", \"gridcolor\": \"white\", \"gridwidth\": 2, \"linecolor\": \"white\", \"showbackground\": true, \"ticks\": \"\", \"zerolinecolor\": \"white\"}, \"zaxis\": {\"backgroundcolor\": \"#E5ECF6\", \"gridcolor\": \"white\", \"gridwidth\": 2, \"linecolor\": \"white\", \"showbackground\": true, \"ticks\": \"\", \"zerolinecolor\": \"white\"}}, \"shapedefaults\": {\"line\": {\"color\": \"#2a3f5f\"}}, \"ternary\": {\"aaxis\": {\"gridcolor\": \"white\", \"linecolor\": \"white\", \"ticks\": \"\"}, \"baxis\": {\"gridcolor\": \"white\", \"linecolor\": \"white\", \"ticks\": \"\"}, \"bgcolor\": \"#E5ECF6\", \"caxis\": {\"gridcolor\": \"white\", \"linecolor\": \"white\", \"ticks\": \"\"}}, \"title\": {\"x\": 0.05}, \"xaxis\": {\"automargin\": true, \"gridcolor\": \"white\", \"linecolor\": \"white\", \"ticks\": \"\", \"title\": {\"standoff\": 15}, \"zerolinecolor\": \"white\", \"zerolinewidth\": 2}, \"yaxis\": {\"automargin\": true, \"gridcolor\": \"white\", \"linecolor\": \"white\", \"ticks\": \"\", \"title\": {\"standoff\": 15}, \"zerolinecolor\": \"white\", \"zerolinewidth\": 2}}}, \"title\": {\"text\": \"Top 40 user locations by number of tweets\"}, \"width\": 800, \"xaxis\": {\"anchor\": \"y\", \"domain\": [0.0, 1.0], \"title\": {\"text\": \"count\"}}, \"yaxis\": {\"anchor\": \"x\", \"domain\": [0.0, 1.0], \"title\": {\"text\": \"user_location\"}}},\n",
              "                        {\"responsive\": true}\n",
              "                    ).then(function(){\n",
              "                            \n",
              "var gd = document.getElementById('b0ac9163-2378-4a24-939d-41d4a6b3b40f');\n",
              "var x = new MutationObserver(function (mutations, observer) {{\n",
              "        var display = window.getComputedStyle(gd).display;\n",
              "        if (!display || display === 'none') {{\n",
              "            console.log([gd, 'removed!']);\n",
              "            Plotly.purge(gd);\n",
              "            observer.disconnect();\n",
              "        }}\n",
              "}});\n",
              "\n",
              "// Listen for the removal of the full notebook cells\n",
              "var notebookContainer = gd.closest('#notebook-container');\n",
              "if (notebookContainer) {{\n",
              "    x.observe(notebookContainer, {childList: true});\n",
              "}}\n",
              "\n",
              "// Listen for the clearing of the current output cell\n",
              "var outputEl = gd.closest('.output');\n",
              "if (outputEl) {{\n",
              "    x.observe(outputEl, {childList: true});\n",
              "}}\n",
              "\n",
              "                        })\n",
              "                };\n",
              "                \n",
              "            </script>\n",
              "        </div>\n",
              "</body>\n",
              "</html>"
            ]
          },
          "metadata": {
            "tags": []
          }
        }
      ]
    },
    {
      "cell_type": "code",
      "metadata": {
        "colab": {
          "base_uri": "https://localhost:8080/",
          "height": 617
        },
        "id": "YkslIpvmCi0D",
        "outputId": "532e630e-df7e-49c6-fc05-e32c2ba4a2a7"
      },
      "source": [
        "def pie_count(data, field, percent_limit, title):\r\n",
        "    \r\n",
        "    data[field] = data[field].fillna('NA')\r\n",
        "    data = data[field].value_counts().to_frame()\r\n",
        "\r\n",
        "    total = data[field].sum()\r\n",
        "    data['percentage'] = 100 * data[field]/total    \r\n",
        "\r\n",
        "    percent_limit = percent_limit\r\n",
        "    otherdata = data[data['percentage'] < percent_limit] \r\n",
        "    others = otherdata['percentage'].sum()  \r\n",
        "    maindata = data[data['percentage'] >= percent_limit]\r\n",
        "\r\n",
        "    data = maindata\r\n",
        "    other_label = \"Others(<\" + str(percent_limit) + \"% each)\"\r\n",
        "    data.loc[other_label] = pd.Series({field:otherdata[field].sum()}) \r\n",
        "    \r\n",
        "    labels = data.index.tolist()   \r\n",
        "    datavals = data[field].tolist()\r\n",
        "    \r\n",
        "    trace=go.Pie(labels=labels,values=datavals)\r\n",
        "\r\n",
        "    layout = go.Layout(\r\n",
        "        title = title,\r\n",
        "        height=600,\r\n",
        "        width=600\r\n",
        "        )\r\n",
        "    \r\n",
        "    fig = go.Figure(data=[trace], layout=layout)\r\n",
        "    iplot(fig)\r\n",
        "    \r\n",
        "pie_count(df, 'user_location', 0.5, 'Number of tweets per location')"
      ],
      "execution_count": 9,
      "outputs": [
        {
          "output_type": "display_data",
          "data": {
            "text/html": [
              "<html>\n",
              "<head><meta charset=\"utf-8\" /></head>\n",
              "<body>\n",
              "    <div>\n",
              "            <script src=\"https://cdnjs.cloudflare.com/ajax/libs/mathjax/2.7.5/MathJax.js?config=TeX-AMS-MML_SVG\"></script><script type=\"text/javascript\">if (window.MathJax) {MathJax.Hub.Config({SVG: {font: \"STIX-Web\"}});}</script>\n",
              "                <script type=\"text/javascript\">window.PlotlyConfig = {MathJaxConfig: 'local'};</script>\n",
              "        <script src=\"https://cdn.plot.ly/plotly-latest.min.js\"></script>    \n",
              "            <div id=\"462b01d2-d7b2-46d0-a935-460ad6f0e23b\" class=\"plotly-graph-div\" style=\"height:600px; width:600px;\"></div>\n",
              "            <script type=\"text/javascript\">\n",
              "                \n",
              "                    window.PLOTLYENV=window.PLOTLYENV || {};\n",
              "                    \n",
              "                if (document.getElementById(\"462b01d2-d7b2-46d0-a935-460ad6f0e23b\")) {\n",
              "                    Plotly.newPlot(\n",
              "                        '462b01d2-d7b2-46d0-a935-460ad6f0e23b',\n",
              "                        [{\"labels\": [\"NA\", \"India\", \"Mumbai, India\", \"New Delhi, India\", \"Mumbai\", \"Bengaluru, India\", \"Hyderabad, India\", \"Pune, India\", \"Chennai, India\", \"Noida, India\", \"New Delhi\", \"Rawalpindi,Pakistan\", \"Bangalore\", \"Kolkata, India\", \"Chennai\", \"Pune\", \"United States\", \"London, England\", \"Others(<0.5% each)\"], \"type\": \"pie\", \"values\": [2549.0, 885.0, 409.0, 299.0, 157.0, 129.0, 126.0, 105.0, 99.0, 93.0, 78.0, 61.0, 60.0, 52.0, 49.0, 49.0, 47.0, 47.0, 4064.0]}],\n",
              "                        {\"height\": 600, \"template\": {\"data\": {\"bar\": [{\"error_x\": {\"color\": \"#2a3f5f\"}, \"error_y\": {\"color\": \"#2a3f5f\"}, \"marker\": {\"line\": {\"color\": \"#E5ECF6\", \"width\": 0.5}}, \"type\": \"bar\"}], \"barpolar\": [{\"marker\": {\"line\": {\"color\": \"#E5ECF6\", \"width\": 0.5}}, \"type\": \"barpolar\"}], \"carpet\": [{\"aaxis\": {\"endlinecolor\": \"#2a3f5f\", \"gridcolor\": \"white\", \"linecolor\": \"white\", \"minorgridcolor\": \"white\", \"startlinecolor\": \"#2a3f5f\"}, \"baxis\": {\"endlinecolor\": \"#2a3f5f\", \"gridcolor\": \"white\", \"linecolor\": \"white\", \"minorgridcolor\": \"white\", \"startlinecolor\": \"#2a3f5f\"}, \"type\": \"carpet\"}], \"choropleth\": [{\"colorbar\": {\"outlinewidth\": 0, \"ticks\": \"\"}, \"type\": \"choropleth\"}], \"contour\": [{\"colorbar\": {\"outlinewidth\": 0, \"ticks\": \"\"}, \"colorscale\": [[0.0, \"#0d0887\"], [0.1111111111111111, \"#46039f\"], [0.2222222222222222, \"#7201a8\"], [0.3333333333333333, \"#9c179e\"], [0.4444444444444444, \"#bd3786\"], [0.5555555555555556, \"#d8576b\"], [0.6666666666666666, \"#ed7953\"], [0.7777777777777778, \"#fb9f3a\"], [0.8888888888888888, \"#fdca26\"], [1.0, \"#f0f921\"]], \"type\": \"contour\"}], \"contourcarpet\": [{\"colorbar\": {\"outlinewidth\": 0, \"ticks\": \"\"}, \"type\": \"contourcarpet\"}], \"heatmap\": [{\"colorbar\": {\"outlinewidth\": 0, \"ticks\": \"\"}, \"colorscale\": [[0.0, \"#0d0887\"], [0.1111111111111111, \"#46039f\"], [0.2222222222222222, \"#7201a8\"], [0.3333333333333333, \"#9c179e\"], [0.4444444444444444, \"#bd3786\"], [0.5555555555555556, \"#d8576b\"], [0.6666666666666666, \"#ed7953\"], [0.7777777777777778, \"#fb9f3a\"], [0.8888888888888888, \"#fdca26\"], [1.0, \"#f0f921\"]], \"type\": \"heatmap\"}], \"heatmapgl\": [{\"colorbar\": {\"outlinewidth\": 0, \"ticks\": \"\"}, \"colorscale\": [[0.0, \"#0d0887\"], [0.1111111111111111, \"#46039f\"], [0.2222222222222222, \"#7201a8\"], [0.3333333333333333, \"#9c179e\"], [0.4444444444444444, \"#bd3786\"], [0.5555555555555556, \"#d8576b\"], [0.6666666666666666, \"#ed7953\"], [0.7777777777777778, \"#fb9f3a\"], [0.8888888888888888, \"#fdca26\"], [1.0, \"#f0f921\"]], \"type\": \"heatmapgl\"}], \"histogram\": [{\"marker\": {\"colorbar\": {\"outlinewidth\": 0, \"ticks\": \"\"}}, \"type\": \"histogram\"}], \"histogram2d\": [{\"colorbar\": {\"outlinewidth\": 0, \"ticks\": \"\"}, \"colorscale\": [[0.0, \"#0d0887\"], [0.1111111111111111, \"#46039f\"], [0.2222222222222222, \"#7201a8\"], [0.3333333333333333, \"#9c179e\"], [0.4444444444444444, \"#bd3786\"], [0.5555555555555556, \"#d8576b\"], [0.6666666666666666, \"#ed7953\"], [0.7777777777777778, \"#fb9f3a\"], [0.8888888888888888, \"#fdca26\"], [1.0, \"#f0f921\"]], \"type\": \"histogram2d\"}], \"histogram2dcontour\": [{\"colorbar\": {\"outlinewidth\": 0, \"ticks\": \"\"}, \"colorscale\": [[0.0, \"#0d0887\"], [0.1111111111111111, \"#46039f\"], [0.2222222222222222, \"#7201a8\"], [0.3333333333333333, \"#9c179e\"], [0.4444444444444444, \"#bd3786\"], [0.5555555555555556, \"#d8576b\"], [0.6666666666666666, \"#ed7953\"], [0.7777777777777778, \"#fb9f3a\"], [0.8888888888888888, \"#fdca26\"], [1.0, \"#f0f921\"]], \"type\": \"histogram2dcontour\"}], \"mesh3d\": [{\"colorbar\": {\"outlinewidth\": 0, \"ticks\": \"\"}, \"type\": \"mesh3d\"}], \"parcoords\": [{\"line\": {\"colorbar\": {\"outlinewidth\": 0, \"ticks\": \"\"}}, \"type\": \"parcoords\"}], \"pie\": [{\"automargin\": true, \"type\": \"pie\"}], \"scatter\": [{\"marker\": {\"colorbar\": {\"outlinewidth\": 0, \"ticks\": \"\"}}, \"type\": \"scatter\"}], \"scatter3d\": [{\"line\": {\"colorbar\": {\"outlinewidth\": 0, \"ticks\": \"\"}}, \"marker\": {\"colorbar\": {\"outlinewidth\": 0, \"ticks\": \"\"}}, \"type\": \"scatter3d\"}], \"scattercarpet\": [{\"marker\": {\"colorbar\": {\"outlinewidth\": 0, \"ticks\": \"\"}}, \"type\": \"scattercarpet\"}], \"scattergeo\": [{\"marker\": {\"colorbar\": {\"outlinewidth\": 0, \"ticks\": \"\"}}, \"type\": \"scattergeo\"}], \"scattergl\": [{\"marker\": {\"colorbar\": {\"outlinewidth\": 0, \"ticks\": \"\"}}, \"type\": \"scattergl\"}], \"scattermapbox\": [{\"marker\": {\"colorbar\": {\"outlinewidth\": 0, \"ticks\": \"\"}}, \"type\": \"scattermapbox\"}], \"scatterpolar\": [{\"marker\": {\"colorbar\": {\"outlinewidth\": 0, \"ticks\": \"\"}}, \"type\": \"scatterpolar\"}], \"scatterpolargl\": [{\"marker\": {\"colorbar\": {\"outlinewidth\": 0, \"ticks\": \"\"}}, \"type\": \"scatterpolargl\"}], \"scatterternary\": [{\"marker\": {\"colorbar\": {\"outlinewidth\": 0, \"ticks\": \"\"}}, \"type\": \"scatterternary\"}], \"surface\": [{\"colorbar\": {\"outlinewidth\": 0, \"ticks\": \"\"}, \"colorscale\": [[0.0, \"#0d0887\"], [0.1111111111111111, \"#46039f\"], [0.2222222222222222, \"#7201a8\"], [0.3333333333333333, \"#9c179e\"], [0.4444444444444444, \"#bd3786\"], [0.5555555555555556, \"#d8576b\"], [0.6666666666666666, \"#ed7953\"], [0.7777777777777778, \"#fb9f3a\"], [0.8888888888888888, \"#fdca26\"], [1.0, \"#f0f921\"]], \"type\": \"surface\"}], \"table\": [{\"cells\": {\"fill\": {\"color\": \"#EBF0F8\"}, \"line\": {\"color\": \"white\"}}, \"header\": {\"fill\": {\"color\": \"#C8D4E3\"}, \"line\": {\"color\": \"white\"}}, \"type\": \"table\"}]}, \"layout\": {\"annotationdefaults\": {\"arrowcolor\": \"#2a3f5f\", \"arrowhead\": 0, \"arrowwidth\": 1}, \"coloraxis\": {\"colorbar\": {\"outlinewidth\": 0, \"ticks\": \"\"}}, \"colorscale\": {\"diverging\": [[0, \"#8e0152\"], [0.1, \"#c51b7d\"], [0.2, \"#de77ae\"], [0.3, \"#f1b6da\"], [0.4, \"#fde0ef\"], [0.5, \"#f7f7f7\"], [0.6, \"#e6f5d0\"], [0.7, \"#b8e186\"], [0.8, \"#7fbc41\"], [0.9, \"#4d9221\"], [1, \"#276419\"]], \"sequential\": [[0.0, \"#0d0887\"], [0.1111111111111111, \"#46039f\"], [0.2222222222222222, \"#7201a8\"], [0.3333333333333333, \"#9c179e\"], [0.4444444444444444, \"#bd3786\"], [0.5555555555555556, \"#d8576b\"], [0.6666666666666666, \"#ed7953\"], [0.7777777777777778, \"#fb9f3a\"], [0.8888888888888888, \"#fdca26\"], [1.0, \"#f0f921\"]], \"sequentialminus\": [[0.0, \"#0d0887\"], [0.1111111111111111, \"#46039f\"], [0.2222222222222222, \"#7201a8\"], [0.3333333333333333, \"#9c179e\"], [0.4444444444444444, \"#bd3786\"], [0.5555555555555556, \"#d8576b\"], [0.6666666666666666, \"#ed7953\"], [0.7777777777777778, \"#fb9f3a\"], [0.8888888888888888, \"#fdca26\"], [1.0, \"#f0f921\"]]}, \"colorway\": [\"#636efa\", \"#EF553B\", \"#00cc96\", \"#ab63fa\", \"#FFA15A\", \"#19d3f3\", \"#FF6692\", \"#B6E880\", \"#FF97FF\", \"#FECB52\"], \"font\": {\"color\": \"#2a3f5f\"}, \"geo\": {\"bgcolor\": \"white\", \"lakecolor\": \"white\", \"landcolor\": \"#E5ECF6\", \"showlakes\": true, \"showland\": true, \"subunitcolor\": \"white\"}, \"hoverlabel\": {\"align\": \"left\"}, \"hovermode\": \"closest\", \"mapbox\": {\"style\": \"light\"}, \"paper_bgcolor\": \"white\", \"plot_bgcolor\": \"#E5ECF6\", \"polar\": {\"angularaxis\": {\"gridcolor\": \"white\", \"linecolor\": \"white\", \"ticks\": \"\"}, \"bgcolor\": \"#E5ECF6\", \"radialaxis\": {\"gridcolor\": \"white\", \"linecolor\": \"white\", \"ticks\": \"\"}}, \"scene\": {\"xaxis\": {\"backgroundcolor\": \"#E5ECF6\", \"gridcolor\": \"white\", \"gridwidth\": 2, \"linecolor\": \"white\", \"showbackground\": true, \"ticks\": \"\", \"zerolinecolor\": \"white\"}, \"yaxis\": {\"backgroundcolor\": \"#E5ECF6\", \"gridcolor\": \"white\", \"gridwidth\": 2, \"linecolor\": \"white\", \"showbackground\": true, \"ticks\": \"\", \"zerolinecolor\": \"white\"}, \"zaxis\": {\"backgroundcolor\": \"#E5ECF6\", \"gridcolor\": \"white\", \"gridwidth\": 2, \"linecolor\": \"white\", \"showbackground\": true, \"ticks\": \"\", \"zerolinecolor\": \"white\"}}, \"shapedefaults\": {\"line\": {\"color\": \"#2a3f5f\"}}, \"ternary\": {\"aaxis\": {\"gridcolor\": \"white\", \"linecolor\": \"white\", \"ticks\": \"\"}, \"baxis\": {\"gridcolor\": \"white\", \"linecolor\": \"white\", \"ticks\": \"\"}, \"bgcolor\": \"#E5ECF6\", \"caxis\": {\"gridcolor\": \"white\", \"linecolor\": \"white\", \"ticks\": \"\"}}, \"title\": {\"x\": 0.05}, \"xaxis\": {\"automargin\": true, \"gridcolor\": \"white\", \"linecolor\": \"white\", \"ticks\": \"\", \"title\": {\"standoff\": 15}, \"zerolinecolor\": \"white\", \"zerolinewidth\": 2}, \"yaxis\": {\"automargin\": true, \"gridcolor\": \"white\", \"linecolor\": \"white\", \"ticks\": \"\", \"title\": {\"standoff\": 15}, \"zerolinecolor\": \"white\", \"zerolinewidth\": 2}}}, \"title\": {\"text\": \"Number of tweets per location\"}, \"width\": 600},\n",
              "                        {\"responsive\": true}\n",
              "                    ).then(function(){\n",
              "                            \n",
              "var gd = document.getElementById('462b01d2-d7b2-46d0-a935-460ad6f0e23b');\n",
              "var x = new MutationObserver(function (mutations, observer) {{\n",
              "        var display = window.getComputedStyle(gd).display;\n",
              "        if (!display || display === 'none') {{\n",
              "            console.log([gd, 'removed!']);\n",
              "            Plotly.purge(gd);\n",
              "            observer.disconnect();\n",
              "        }}\n",
              "}});\n",
              "\n",
              "// Listen for the removal of the full notebook cells\n",
              "var notebookContainer = gd.closest('#notebook-container');\n",
              "if (notebookContainer) {{\n",
              "    x.observe(notebookContainer, {childList: true});\n",
              "}}\n",
              "\n",
              "// Listen for the clearing of the current output cell\n",
              "var outputEl = gd.closest('.output');\n",
              "if (outputEl) {{\n",
              "    x.observe(outputEl, {childList: true});\n",
              "}}\n",
              "\n",
              "                        })\n",
              "                };\n",
              "                \n",
              "            </script>\n",
              "        </div>\n",
              "</body>\n",
              "</html>"
            ]
          },
          "metadata": {
            "tags": []
          }
        }
      ]
    },
    {
      "cell_type": "code",
      "metadata": {
        "colab": {
          "base_uri": "https://localhost:8080/",
          "height": 542
        },
        "id": "EoUra10IDVd1",
        "outputId": "d6cf71e6-8669-479a-f66d-b410cfe11fe2"
      },
      "source": [
        "# Tweet distribution over time in a day\r\n",
        "df['tweet_timestamp'] = pd.to_datetime(df['tweet_timestamp'], errors='coerce')\r\n",
        "\r\n",
        "df['hour'] = df['tweet_timestamp'].dt.hour\r\n",
        "ds = df['hour'].value_counts().reset_index()\r\n",
        "ds.columns = ['hour', 'count']\r\n",
        "ds['hour'] = 'Hour ' + ds['hour'].astype(str)\r\n",
        "fig = px.bar(\r\n",
        "    ds, \r\n",
        "    x=\"hour\", \r\n",
        "    y=\"count\", \r\n",
        "    orientation='v', \r\n",
        "    title='Tweets distribution over hours', \r\n",
        "    width=800\r\n",
        ")\r\n",
        "fig.show()"
      ],
      "execution_count": 16,
      "outputs": [
        {
          "output_type": "display_data",
          "data": {
            "text/html": [
              "<html>\n",
              "<head><meta charset=\"utf-8\" /></head>\n",
              "<body>\n",
              "    <div>\n",
              "            <script src=\"https://cdnjs.cloudflare.com/ajax/libs/mathjax/2.7.5/MathJax.js?config=TeX-AMS-MML_SVG\"></script><script type=\"text/javascript\">if (window.MathJax) {MathJax.Hub.Config({SVG: {font: \"STIX-Web\"}});}</script>\n",
              "                <script type=\"text/javascript\">window.PlotlyConfig = {MathJaxConfig: 'local'};</script>\n",
              "        <script src=\"https://cdn.plot.ly/plotly-latest.min.js\"></script>    \n",
              "            <div id=\"c2daf8a2-193d-4672-a207-13de57a72ddc\" class=\"plotly-graph-div\" style=\"height:525px; width:800px;\"></div>\n",
              "            <script type=\"text/javascript\">\n",
              "                \n",
              "                    window.PLOTLYENV=window.PLOTLYENV || {};\n",
              "                    \n",
              "                if (document.getElementById(\"c2daf8a2-193d-4672-a207-13de57a72ddc\")) {\n",
              "                    Plotly.newPlot(\n",
              "                        'c2daf8a2-193d-4672-a207-13de57a72ddc',\n",
              "                        [{\"alignmentgroup\": \"True\", \"hoverlabel\": {\"namelength\": 0}, \"hovertemplate\": \"hour=%{x}<br>count=%{y}\", \"legendgroup\": \"\", \"marker\": {\"color\": \"#636efa\"}, \"name\": \"\", \"offsetgroup\": \"\", \"orientation\": \"v\", \"showlegend\": false, \"textposition\": \"auto\", \"type\": \"bar\", \"x\": [\"Hour 23\", \"Hour 10\", \"Hour 9\", \"Hour 17\", \"Hour 18\", \"Hour 13\", \"Hour 12\", \"Hour 11\", \"Hour 15\", \"Hour 14\", \"Hour 7\", \"Hour 4\", \"Hour 16\", \"Hour 19\", \"Hour 8\", \"Hour 20\", \"Hour 22\", \"Hour 5\", \"Hour 6\", \"Hour 21\", \"Hour 3\", \"Hour 2\", \"Hour 1\", \"Hour 0\"], \"xaxis\": \"x\", \"y\": [991, 640, 638, 625, 587, 574, 556, 543, 503, 500, 455, 454, 440, 411, 337, 260, 206, 193, 174, 166, 67, 24, 9, 5], \"yaxis\": \"y\"}],\n",
              "                        {\"barmode\": \"relative\", \"legend\": {\"tracegroupgap\": 0}, \"template\": {\"data\": {\"bar\": [{\"error_x\": {\"color\": \"#2a3f5f\"}, \"error_y\": {\"color\": \"#2a3f5f\"}, \"marker\": {\"line\": {\"color\": \"#E5ECF6\", \"width\": 0.5}}, \"type\": \"bar\"}], \"barpolar\": [{\"marker\": {\"line\": {\"color\": \"#E5ECF6\", \"width\": 0.5}}, \"type\": \"barpolar\"}], \"carpet\": [{\"aaxis\": {\"endlinecolor\": \"#2a3f5f\", \"gridcolor\": \"white\", \"linecolor\": \"white\", \"minorgridcolor\": \"white\", \"startlinecolor\": \"#2a3f5f\"}, \"baxis\": {\"endlinecolor\": \"#2a3f5f\", \"gridcolor\": \"white\", \"linecolor\": \"white\", \"minorgridcolor\": \"white\", \"startlinecolor\": \"#2a3f5f\"}, \"type\": \"carpet\"}], \"choropleth\": [{\"colorbar\": {\"outlinewidth\": 0, \"ticks\": \"\"}, \"type\": \"choropleth\"}], \"contour\": [{\"colorbar\": {\"outlinewidth\": 0, \"ticks\": \"\"}, \"colorscale\": [[0.0, \"#0d0887\"], [0.1111111111111111, \"#46039f\"], [0.2222222222222222, \"#7201a8\"], [0.3333333333333333, \"#9c179e\"], [0.4444444444444444, \"#bd3786\"], [0.5555555555555556, \"#d8576b\"], [0.6666666666666666, \"#ed7953\"], [0.7777777777777778, \"#fb9f3a\"], [0.8888888888888888, \"#fdca26\"], [1.0, \"#f0f921\"]], \"type\": \"contour\"}], \"contourcarpet\": [{\"colorbar\": {\"outlinewidth\": 0, \"ticks\": \"\"}, \"type\": \"contourcarpet\"}], \"heatmap\": [{\"colorbar\": {\"outlinewidth\": 0, \"ticks\": \"\"}, \"colorscale\": [[0.0, \"#0d0887\"], [0.1111111111111111, \"#46039f\"], [0.2222222222222222, \"#7201a8\"], [0.3333333333333333, \"#9c179e\"], [0.4444444444444444, \"#bd3786\"], [0.5555555555555556, \"#d8576b\"], [0.6666666666666666, \"#ed7953\"], [0.7777777777777778, \"#fb9f3a\"], [0.8888888888888888, \"#fdca26\"], [1.0, \"#f0f921\"]], \"type\": \"heatmap\"}], \"heatmapgl\": [{\"colorbar\": {\"outlinewidth\": 0, \"ticks\": \"\"}, \"colorscale\": [[0.0, \"#0d0887\"], [0.1111111111111111, \"#46039f\"], [0.2222222222222222, \"#7201a8\"], [0.3333333333333333, \"#9c179e\"], [0.4444444444444444, \"#bd3786\"], [0.5555555555555556, \"#d8576b\"], [0.6666666666666666, \"#ed7953\"], [0.7777777777777778, \"#fb9f3a\"], [0.8888888888888888, \"#fdca26\"], [1.0, \"#f0f921\"]], \"type\": \"heatmapgl\"}], \"histogram\": [{\"marker\": {\"colorbar\": {\"outlinewidth\": 0, \"ticks\": \"\"}}, \"type\": \"histogram\"}], \"histogram2d\": [{\"colorbar\": {\"outlinewidth\": 0, \"ticks\": \"\"}, \"colorscale\": [[0.0, \"#0d0887\"], [0.1111111111111111, \"#46039f\"], [0.2222222222222222, \"#7201a8\"], [0.3333333333333333, \"#9c179e\"], [0.4444444444444444, \"#bd3786\"], [0.5555555555555556, \"#d8576b\"], [0.6666666666666666, \"#ed7953\"], [0.7777777777777778, \"#fb9f3a\"], [0.8888888888888888, \"#fdca26\"], [1.0, \"#f0f921\"]], \"type\": \"histogram2d\"}], \"histogram2dcontour\": [{\"colorbar\": {\"outlinewidth\": 0, \"ticks\": \"\"}, \"colorscale\": [[0.0, \"#0d0887\"], [0.1111111111111111, \"#46039f\"], [0.2222222222222222, \"#7201a8\"], [0.3333333333333333, \"#9c179e\"], [0.4444444444444444, \"#bd3786\"], [0.5555555555555556, \"#d8576b\"], [0.6666666666666666, \"#ed7953\"], [0.7777777777777778, \"#fb9f3a\"], [0.8888888888888888, \"#fdca26\"], [1.0, \"#f0f921\"]], \"type\": \"histogram2dcontour\"}], \"mesh3d\": [{\"colorbar\": {\"outlinewidth\": 0, \"ticks\": \"\"}, \"type\": \"mesh3d\"}], \"parcoords\": [{\"line\": {\"colorbar\": {\"outlinewidth\": 0, \"ticks\": \"\"}}, \"type\": \"parcoords\"}], \"pie\": [{\"automargin\": true, \"type\": \"pie\"}], \"scatter\": [{\"marker\": {\"colorbar\": {\"outlinewidth\": 0, \"ticks\": \"\"}}, \"type\": \"scatter\"}], \"scatter3d\": [{\"line\": {\"colorbar\": {\"outlinewidth\": 0, \"ticks\": \"\"}}, \"marker\": {\"colorbar\": {\"outlinewidth\": 0, \"ticks\": \"\"}}, \"type\": \"scatter3d\"}], \"scattercarpet\": [{\"marker\": {\"colorbar\": {\"outlinewidth\": 0, \"ticks\": \"\"}}, \"type\": \"scattercarpet\"}], \"scattergeo\": [{\"marker\": {\"colorbar\": {\"outlinewidth\": 0, \"ticks\": \"\"}}, \"type\": \"scattergeo\"}], \"scattergl\": [{\"marker\": {\"colorbar\": {\"outlinewidth\": 0, \"ticks\": \"\"}}, \"type\": \"scattergl\"}], \"scattermapbox\": [{\"marker\": {\"colorbar\": {\"outlinewidth\": 0, \"ticks\": \"\"}}, \"type\": \"scattermapbox\"}], \"scatterpolar\": [{\"marker\": {\"colorbar\": {\"outlinewidth\": 0, \"ticks\": \"\"}}, \"type\": \"scatterpolar\"}], \"scatterpolargl\": [{\"marker\": {\"colorbar\": {\"outlinewidth\": 0, \"ticks\": \"\"}}, \"type\": \"scatterpolargl\"}], \"scatterternary\": [{\"marker\": {\"colorbar\": {\"outlinewidth\": 0, \"ticks\": \"\"}}, \"type\": \"scatterternary\"}], \"surface\": [{\"colorbar\": {\"outlinewidth\": 0, \"ticks\": \"\"}, \"colorscale\": [[0.0, \"#0d0887\"], [0.1111111111111111, \"#46039f\"], [0.2222222222222222, \"#7201a8\"], [0.3333333333333333, \"#9c179e\"], [0.4444444444444444, \"#bd3786\"], [0.5555555555555556, \"#d8576b\"], [0.6666666666666666, \"#ed7953\"], [0.7777777777777778, \"#fb9f3a\"], [0.8888888888888888, \"#fdca26\"], [1.0, \"#f0f921\"]], \"type\": \"surface\"}], \"table\": [{\"cells\": {\"fill\": {\"color\": \"#EBF0F8\"}, \"line\": {\"color\": \"white\"}}, \"header\": {\"fill\": {\"color\": \"#C8D4E3\"}, \"line\": {\"color\": \"white\"}}, \"type\": \"table\"}]}, \"layout\": {\"annotationdefaults\": {\"arrowcolor\": \"#2a3f5f\", \"arrowhead\": 0, \"arrowwidth\": 1}, \"coloraxis\": {\"colorbar\": {\"outlinewidth\": 0, \"ticks\": \"\"}}, \"colorscale\": {\"diverging\": [[0, \"#8e0152\"], [0.1, \"#c51b7d\"], [0.2, \"#de77ae\"], [0.3, \"#f1b6da\"], [0.4, \"#fde0ef\"], [0.5, \"#f7f7f7\"], [0.6, \"#e6f5d0\"], [0.7, \"#b8e186\"], [0.8, \"#7fbc41\"], [0.9, \"#4d9221\"], [1, \"#276419\"]], \"sequential\": [[0.0, \"#0d0887\"], [0.1111111111111111, \"#46039f\"], [0.2222222222222222, \"#7201a8\"], [0.3333333333333333, \"#9c179e\"], [0.4444444444444444, \"#bd3786\"], [0.5555555555555556, \"#d8576b\"], [0.6666666666666666, \"#ed7953\"], [0.7777777777777778, \"#fb9f3a\"], [0.8888888888888888, \"#fdca26\"], [1.0, \"#f0f921\"]], \"sequentialminus\": [[0.0, \"#0d0887\"], [0.1111111111111111, \"#46039f\"], [0.2222222222222222, \"#7201a8\"], [0.3333333333333333, \"#9c179e\"], [0.4444444444444444, \"#bd3786\"], [0.5555555555555556, \"#d8576b\"], [0.6666666666666666, \"#ed7953\"], [0.7777777777777778, \"#fb9f3a\"], [0.8888888888888888, \"#fdca26\"], [1.0, \"#f0f921\"]]}, \"colorway\": [\"#636efa\", \"#EF553B\", \"#00cc96\", \"#ab63fa\", \"#FFA15A\", \"#19d3f3\", \"#FF6692\", \"#B6E880\", \"#FF97FF\", \"#FECB52\"], \"font\": {\"color\": \"#2a3f5f\"}, \"geo\": {\"bgcolor\": \"white\", \"lakecolor\": \"white\", \"landcolor\": \"#E5ECF6\", \"showlakes\": true, \"showland\": true, \"subunitcolor\": \"white\"}, \"hoverlabel\": {\"align\": \"left\"}, \"hovermode\": \"closest\", \"mapbox\": {\"style\": \"light\"}, \"paper_bgcolor\": \"white\", \"plot_bgcolor\": \"#E5ECF6\", \"polar\": {\"angularaxis\": {\"gridcolor\": \"white\", \"linecolor\": \"white\", \"ticks\": \"\"}, \"bgcolor\": \"#E5ECF6\", \"radialaxis\": {\"gridcolor\": \"white\", \"linecolor\": \"white\", \"ticks\": \"\"}}, \"scene\": {\"xaxis\": {\"backgroundcolor\": \"#E5ECF6\", \"gridcolor\": \"white\", \"gridwidth\": 2, \"linecolor\": \"white\", \"showbackground\": true, \"ticks\": \"\", \"zerolinecolor\": \"white\"}, \"yaxis\": {\"backgroundcolor\": \"#E5ECF6\", \"gridcolor\": \"white\", \"gridwidth\": 2, \"linecolor\": \"white\", \"showbackground\": true, \"ticks\": \"\", \"zerolinecolor\": \"white\"}, \"zaxis\": {\"backgroundcolor\": \"#E5ECF6\", \"gridcolor\": \"white\", \"gridwidth\": 2, \"linecolor\": \"white\", \"showbackground\": true, \"ticks\": \"\", \"zerolinecolor\": \"white\"}}, \"shapedefaults\": {\"line\": {\"color\": \"#2a3f5f\"}}, \"ternary\": {\"aaxis\": {\"gridcolor\": \"white\", \"linecolor\": \"white\", \"ticks\": \"\"}, \"baxis\": {\"gridcolor\": \"white\", \"linecolor\": \"white\", \"ticks\": \"\"}, \"bgcolor\": \"#E5ECF6\", \"caxis\": {\"gridcolor\": \"white\", \"linecolor\": \"white\", \"ticks\": \"\"}}, \"title\": {\"x\": 0.05}, \"xaxis\": {\"automargin\": true, \"gridcolor\": \"white\", \"linecolor\": \"white\", \"ticks\": \"\", \"title\": {\"standoff\": 15}, \"zerolinecolor\": \"white\", \"zerolinewidth\": 2}, \"yaxis\": {\"automargin\": true, \"gridcolor\": \"white\", \"linecolor\": \"white\", \"ticks\": \"\", \"title\": {\"standoff\": 15}, \"zerolinecolor\": \"white\", \"zerolinewidth\": 2}}}, \"title\": {\"text\": \"Tweets distribution over hours\"}, \"width\": 800, \"xaxis\": {\"anchor\": \"y\", \"domain\": [0.0, 1.0], \"title\": {\"text\": \"hour\"}}, \"yaxis\": {\"anchor\": \"x\", \"domain\": [0.0, 1.0], \"title\": {\"text\": \"count\"}}},\n",
              "                        {\"responsive\": true}\n",
              "                    ).then(function(){\n",
              "                            \n",
              "var gd = document.getElementById('c2daf8a2-193d-4672-a207-13de57a72ddc');\n",
              "var x = new MutationObserver(function (mutations, observer) {{\n",
              "        var display = window.getComputedStyle(gd).display;\n",
              "        if (!display || display === 'none') {{\n",
              "            console.log([gd, 'removed!']);\n",
              "            Plotly.purge(gd);\n",
              "            observer.disconnect();\n",
              "        }}\n",
              "}});\n",
              "\n",
              "// Listen for the removal of the full notebook cells\n",
              "var notebookContainer = gd.closest('#notebook-container');\n",
              "if (notebookContainer) {{\n",
              "    x.observe(notebookContainer, {childList: true});\n",
              "}}\n",
              "\n",
              "// Listen for the clearing of the current output cell\n",
              "var outputEl = gd.closest('.output');\n",
              "if (outputEl) {{\n",
              "    x.observe(outputEl, {childList: true});\n",
              "}}\n",
              "\n",
              "                        })\n",
              "                };\n",
              "                \n",
              "            </script>\n",
              "        </div>\n",
              "</body>\n",
              "</html>"
            ]
          },
          "metadata": {
            "tags": []
          }
        }
      ]
    },
    {
      "cell_type": "code",
      "metadata": {
        "colab": {
          "base_uri": "https://localhost:8080/",
          "height": 717
        },
        "id": "SjvK5wn9DwB7",
        "outputId": "f9d16b55-25c8-41dd-e0bc-7de6f7f8b91e"
      },
      "source": [
        "#Now we are going to calculate the length for every tweet in dataset\r\n",
        "df['tweet_length'] = df['Full_text'].str.len()\r\n",
        "fig = px.histogram(\r\n",
        "    df, \r\n",
        "    x=\"tweet_length\", \r\n",
        "    nbins=80, \r\n",
        "    title='Tweet length distribution', \r\n",
        "    width=800,\r\n",
        "    height=700\r\n",
        ")\r\n",
        "fig.show()"
      ],
      "execution_count": 15,
      "outputs": [
        {
          "output_type": "display_data",
          "data": {
            "text/html": [
              "<html>\n",
              "<head><meta charset=\"utf-8\" /></head>\n",
              "<body>\n",
              "    <div>\n",
              "            <script src=\"https://cdnjs.cloudflare.com/ajax/libs/mathjax/2.7.5/MathJax.js?config=TeX-AMS-MML_SVG\"></script><script type=\"text/javascript\">if (window.MathJax) {MathJax.Hub.Config({SVG: {font: \"STIX-Web\"}});}</script>\n",
              "                <script type=\"text/javascript\">window.PlotlyConfig = {MathJaxConfig: 'local'};</script>\n",
              "        <script src=\"https://cdn.plot.ly/plotly-latest.min.js\"></script>    \n",
              "            <div id=\"4a6e5c2a-abcf-4355-8fc1-3807c33811a5\" class=\"plotly-graph-div\" style=\"height:700px; width:800px;\"></div>\n",
              "            <script type=\"text/javascript\">\n",
              "                \n",
              "                    window.PLOTLYENV=window.PLOTLYENV || {};\n",
              "                    \n",
              "                if (document.getElementById(\"4a6e5c2a-abcf-4355-8fc1-3807c33811a5\")) {\n",
              "                    Plotly.newPlot(\n",
              "                        '4a6e5c2a-abcf-4355-8fc1-3807c33811a5',\n",
              "                        [{\"alignmentgroup\": \"True\", \"bingroup\": \"x\", \"hoverlabel\": {\"namelength\": 0}, \"hovertemplate\": \"tweet_length=%{x}<br>count=%{y}\", \"legendgroup\": \"\", \"marker\": {\"color\": \"#636efa\"}, \"name\": \"\", \"nbinsx\": 80, \"offsetgroup\": \"\", \"orientation\": \"v\", \"showlegend\": false, \"type\": \"histogram\", \"x\": [65, 78, 121, 41, 260, 179, 41, 260, 33, 103, 75, 180, 83, 157, 142, 124, 30, 93, 59, 35, 211, 117, 243, 195, 222, 234, 251, 212, 79, 125, 10, 127, 73, 228, 100, 42, 153, 70, 132, 72, 165, 43, 138, 62, 29, 91, 186, 46, 91, 197, 92, 108, 35, 22, 164, 112, 54, 60, 40, 12, 22, 127, 115, 43, 90, 212, 113, 156, 97, 230, 45, 90, 114, 115, 104, 120, 33, 79, 27, 164, 114, 131, 66, 45, 225, 250, 199, 191, 58, 31, 9, 243, 96, 117, 145, 175, 75, 47, 243, 211, 39, 131, 65, 96, 69, 67, 169, 27, 40, 76, 179, 71, 178, 112, 34, 114, 42, 107, 96, 28, 65, 138, 192, 140, 178, 96, 187, 170, 15, 66, 25, 226, 92, 16, 72, 65, 186, 75, 115, 64, 56, 60, 50, 64, 146, 197, 69, 192, 32, 198, 130, 99, 115, 209, 242, 265, 236, 172, 89, 68, 50, 45, 63, 131, 238, 81, 81, 235, 16, 16, 56, 74, 142, 194, 197, 126, 78, 222, 49, 18, 92, 198, 48, 100, 9, 170, 10, 59, 167, 154, 103, 168, 116, 86, 168, 91, 56, 168, 168, 167, 85, 110, 13, 81, 168, 74, 76, 64, 204, 169, 66, 151, 68, 239, 69, 216, 67, 80, 107, 129, 74, 74, 65, 73, 46, 48, 130, 74, 66, 78, 129, 203, 234, 104, 74, 46, 137, 137, 134, 102, 69, 190, 169, 209, 33, 49, 155, 155, 29, 55, 105, 83, 105, 214, 205, 66, 72, 264, 48, 218, 164, 136, 165, 196, 83, 13, 22, 63, 63, 133, 61, 73, 85, 62, 79, 55, 7, 157, 26, 142, 151, 131, 158, 129, 22, 131, 131, 82, 99, 59, 158, 79, 70, 130, 42, 94, 135, 75, 72, 67, 124, 40, 40, 90, 76, 100, 6, 147, 29, 118, 226, 183, 73, 69, 52, 149, 68, 183, 73, 231, 112, 82, 157, 198, 27, 171, 205, 170, 209, 70, 66, 174, 103, 101, 67, 86, 42, 176, 79, 206, 71, 50, 79, 186, 30, 56, 71, 73, 78, 131, 95, 53, 152, 41, 45, 131, 131, 161, 43, 79, 101, 121, 160, 59, 97, 151, 97, 174, 61, 208, 224, 26, 85, 73, 77, 110, 194, 83, 54, 92, 146, 90, 51, 134, 72, 36, 187, 235, 64, 26, 103, 145, 36, 130, 162, 128, 27, 27, 39, 167, 216, 27, 118, 75, 85, 62, 52, 34, 33, 93, 73, 64, 130, 143, 84, 100, 53, 100, 100, 12, 100, 100, 32, 71, 142, 18, 112, 147, 9, 81, 37, 49, 73, 78, 56, 101, 47, 89, 55, 70, 43, 37, 92, 33, 184, 194, 110, 39, 110, 88, 67, 45, 60, 175, 131, 108, 131, 165, 64, 191, 25, 46, 80, 227, 139, 100, 55, 25, 137, 23, 53, 168, 18, 230, 32, 174, 60, 63, 240, 35, 75, 100, 184, 12, 93, 73, 64, 132, 191, 79, 104, 262, 54, 80, 45, 244, 130, 233, 115, 179, 69, 12, 59, 92, 159, 214, 67, 64, 111, 95, 27, 129, 146, 154, 204, 44, 144, 108, 57, 93, 32, 65, 131, 44, 28, 131, 17, 23, 66, 93, 202, 211, 219, 26, 130, 26, 28, 173, 133, 138, 52, 25, 201, 160, 83, 76, 129, 97, 102, 90, 81, 61, 160, 126, 149, 120, 171, 164, 94, 144, 50, 161, 216, 179, 128, 35, 66, 79, 120, 23, 207, 112, 170, 141, 135, 33, 69, 74, 65, 199, 96, 238, 57, 200, 37, 107, 116, 194, 141, 59, 78, 96, 60, 33, 130, 224, 18, 26, 122, 122, 74, 135, 42, 6, 48, 160, 44, 141, 39, 41, 202, 196, 14, 106, 230, 30, 78, 219, 204, 26, 173, 70, 39, 189, 54, 250, 42, 14, 61, 35, 68, 28, 236, 225, 94, 10, 108, 39, 93, 59, 71, 133, 145, 155, 236, 43, 75, 106, 153, 100, 37, 186, 79, 190, 149, 68, 176, 46, 41, 63, 182, 244, 21, 103, 55, 200, 68, 120, 139, 141, 95, 161, 44, 26, 208, 124, 68, 63, 95, 60, 71, 197, 140, 59, 28, 38, 94, 69, 135, 75, 245, 248, 140, 72, 68, 19, 89, 121, 182, 190, 105, 213, 44, 62, 22, 79, 176, 166, 10, 75, 209, 39, 65, 48, 209, 10, 11, 66, 73, 214, 28, 36, 31, 97, 32, 75, 33, 132, 25, 31, 67, 126, 147, 61, 188, 75, 108, 22, 21, 110, 250, 70, 107, 62, 7, 26, 22, 28, 80, 96, 76, 104, 115, 227, 84, 237, 37, 60, 17, 107, 35, 94, 109, 84, 132, 92, 69, 85, 177, 89, 142, 33, 41, 73, 144, 64, 42, 78, 40, 104, 246, 150, 223, 258, 91, 49, 84, 11, 56, 106, 57, 149, 56, 255, 53, 122, 77, 18, 250, 157, 161, 152, 106, 120, 89, 229, 85, 32, 137, 134, 5, 87, 121, 113, 210, 103, 260, 79, 107, 57, 254, 191, 154, 18, 33, 194, 113, 31, 182, 133, 88, 113, 191, 210, 53, 55, 100, 54, 170, 178, 67, 155, 60, 78, 13, 150, 57, 51, 108, 193, 98, 26, 60, 96, 43, 47, 28, 11, 98, 129, 162, 33, 130, 114, 115, 56, 74, 140, 264, 50, 98, 202, 184, 25, 106, 207, 128, 167, 238, 216, 45, 94, 216, 43, 177, 119, 14, 160, 145, 194, 254, 186, 116, 134, 229, 236, 110, 30, 35, 172, 24, 107, 107, 45, 114, 111, 12, 116, 46, 90, 66, 117, 10, 224, 123, 51, 124, 95, 100, 33, 54, 212, 114, 142, 141, 185, 74, 142, 28, 194, 76, 199, 200, 204, 75, 47, 14, 131, 73, 32, 25, 23, 73, 36, 107, 150, 113, 166, 94, 170, 43, 48, 26, 184, 89, 87, 91, 112, 123, 84, 40, 25, 88, 82, 22, 64, 203, 178, 96, 130, 61, 230, 108, 141, 16, 218, 86, 88, 96, 182, 88, 22, 78, 53, 125, 71, 109, 187, 59, 200, 77, 41, 69, 45, 74, 98, 74, 84, 154, 93, 125, 136, 47, 239, 155, 80, 102, 144, 168, 32, 113, 143, 195, 72, 44, 215, 62, 105, 78, 242, 94, 68, 17, 88, 65, 196, 100, 156, 121, 65, 59, 80, 62, 151, 186, 75, 95, 63, 91, 156, 89, 66, 99, 78, 87, 88, 44, 23, 29, 33, 99, 182, 216, 26, 218, 245, 186, 112, 232, 119, 16, 66, 143, 12, 234, 88, 183, 151, 104, 222, 235, 169, 64, 19, 73, 97, 133, 31, 41, 103, 169, 113, 131, 89, 105, 253, 62, 30, 117, 138, 63, 101, 51, 25, 62, 38, 117, 205, 137, 222, 88, 51, 48, 75, 65, 28, 73, 37, 41, 117, 72, 140, 145, 63, 40, 61, 87, 136, 69, 102, 125, 140, 115, 54, 94, 45, 155, 114, 93, 13, 34, 102, 65, 144, 221, 48, 62, 49, 76, 157, 126, 192, 36, 118, 85, 47, 191, 166, 10, 241, 100, 92, 106, 190, 78, 33, 67, 163, 103, 96, 127, 47, 203, 138, 26, 96, 58, 82, 93, 87, 202, 225, 50, 65, 18, 48, 253, 81, 31, 79, 116, 28, 42, 183, 6, 12, 113, 193, 172, 142, 160, 181, 159, 213, 211, 79, 183, 234, 184, 93, 88, 69, 155, 138, 240, 69, 28, 215, 28, 36, 35, 65, 196, 88, 79, 73, 54, 90, 41, 34, 89, 189, 90, 216, 30, 100, 51, 78, 101, 79, 89, 54, 239, 61, 91, 67, 51, 134, 61, 238, 140, 125, 75, 69, 67, 140, 218, 111, 153, 29, 93, 76, 49, 50, 76, 37, 43, 34, 37, 77, 135, 68, 48, 14, 197, 115, 149, 18, 86, 109, 68, 38, 162, 60, 49, 111, 46, 55, 71, 243, 117, 105, 101, 138, 86, 20, 70, 56, 149, 194, 159, 145, 73, 47, 25, 34, 15, 203, 78, 249, 77, 119, 124, 206, 14, 72, 165, 232, 81, 117, 82, 126, 156, 90, 70, 127, 80, 198, 195, 105, 258, 121, 201, 96, 108, 198, 146, 59, 78, 229, 33, 51, 177, 185, 11, 10, 107, 39, 206, 50, 83, 112, 251, 83, 178, 203, 151, 43, 215, 104, 231, 239, 190, 169, 49, 11, 43, 52, 193, 157, 39, 58, 16, 64, 127, 33, 157, 117, 107, 250, 123, 24, 97, 228, 53, 103, 186, 59, 32, 9, 98, 67, 71, 77, 75, 40, 83, 235, 97, 109, 68, 99, 73, 74, 43, 40, 24, 219, 88, 105, 137, 57, 89, 45, 29, 54, 177, 112, 85, 40, 209, 38, 59, 43, 73, 95, 59, 22, 78, 62, 204, 148, 182, 55, 27, 102, 109, 108, 97, 218, 115, 62, 110, 51, 105, 148, 27, 207, 96, 45, 117, 133, 227, 15, 175, 68, 145, 145, 69, 154, 205, 79, 78, 68, 136, 84, 58, 185, 88, 138, 129, 87, 54, 199, 80, 185, 97, 34, 210, 71, 95, 55, 29, 77, 68, 234, 28, 54, 44, 71, 162, 157, 113, 30, 62, 37, 40, 110, 173, 233, 124, 54, 164, 206, 119, 70, 264, 232, 226, 141, 54, 249, 238, 154, 38, 60, 192, 115, 45, 66, 239, 74, 82, 116, 137, 214, 43, 139, 48, 95, 61, 84, 208, 71, 103, 113, 76, 104, 95, 152, 170, 37, 43, 71, 117, 204, 81, 225, 95, 99, 22, 60, 178, 165, 104, 94, 220, 53, 71, 208, 132, 251, 21, 146, 70, 211, 58, 107, 112, 56, 101, 145, 85, 142, 103, 188, 41, 43, 38, 46, 32, 48, 24, 10, 63, 197, 143, 37, 68, 140, 43, 211, 57, 197, 161, 20, 47, 95, 32, 67, 77, 127, 76, 86, 169, 202, 146, 130, 46, 46, 254, 63, 95, 80, 57, 220, 120, 42, 73, 40, 206, 43, 107, 177, 25, 52, 24, 222, 53, 180, 190, 23, 65, 46, 89, 120, 85, 52, 204, 43, 73, 39, 73, 83, 74, 41, 14, 103, 58, 10, 83, 20, 85, 72, 10, 110, 84, 42, 106, 119, 45, 78, 10, 137, 52, 97, 144, 208, 117, 153, 126, 16, 143, 158, 75, 125, 68, 103, 105, 25, 66, 98, 103, 75, 161, 48, 110, 85, 98, 85, 44, 109, 96, 101, 47, 91, 85, 71, 70, 91, 48, 179, 26, 97, 115, 112, 249, 207, 147, 54, 114, 7, 182, 226, 74, 93, 191, 50, 171, 45, 83, 139, 67, 73, 244, 202, 191, 110, 229, 49, 108, 155, 91, 252, 98, 63, 19, 138, 118, 27, 78, 45, 44, 59, 47, 25, 37, 139, 36, 137, 143, 14, 133, 130, 116, 51, 14, 106, 65, 219, 68, 49, 135, 57, 63, 255, 78, 46, 100, 38, 71, 146, 228, 13, 219, 32, 76, 21, 203, 204, 48, 16, 95, 166, 72, 20, 167, 13, 129, 105, 79, 87, 162, 81, 59, 25, 200, 108, 117, 145, 120, 45, 49, 32, 9, 161, 12, 63, 112, 63, 73, 95, 127, 139, 154, 75, 50, 82, 69, 200, 178, 26, 73, 34, 32, 35, 101, 205, 49, 92, 107, 158, 83, 54, 146, 45, 247, 117, 40, 139, 198, 15, 90, 36, 50, 21, 36, 36, 52, 45, 122, 22, 35, 39, 200, 95, 35, 29, 123, 133, 15, 115, 47, 172, 61, 164, 54, 57, 119, 223, 110, 69, 23, 35, 138, 229, 89, 151, 58, 40, 186, 59, 170, 64, 151, 212, 22, 88, 81, 10, 49, 197, 93, 190, 144, 229, 168, 69, 229, 105, 96, 213, 54, 122, 78, 107, 236, 165, 77, 229, 203, 182, 23, 221, 27, 182, 99, 159, 159, 154, 105, 136, 69, 207, 194, 167, 134, 129, 25, 34, 175, 65, 137, 111, 96, 25, 46, 41, 84, 125, 157, 216, 86, 17, 173, 67, 59, 96, 136, 63, 148, 255, 20, 83, 255, 27, 85, 35, 202, 100, 73, 197, 147, 127, 160, 77, 198, 43, 171, 51, 83, 172, 226, 36, 182, 14, 96, 104, 135, 166, 69, 29, 54, 9, 105, 39, 77, 146, 113, 62, 20, 236, 206, 207, 210, 71, 63, 106, 150, 109, 55, 233, 61, 36, 45, 173, 190, 150, 72, 175, 9, 208, 81, 204, 49, 220, 129, 217, 31, 181, 124, 100, 141, 154, 175, 66, 32, 37, 150, 17, 110, 56, 256, 59, 172, 179, 59, 187, 104, 70, 251, 28, 142, 258, 119, 257, 208, 100, 187, 262, 44, 232, 49, 116, 55, 33, 94, 40, 63, 122, 236, 35, 216, 168, 75, 202, 76, 79, 78, 63, 50, 65, 41, 50, 148, 178, 207, 133, 68, 63, 18, 68, 141, 64, 82, 55, 68, 73, 131, 39, 59, 109, 135, 64, 67, 26, 239, 69, 26, 89, 41, 85, 168, 84, 167, 146, 185, 206, 114, 167, 112, 92, 230, 218, 218, 204, 120, 142, 118, 96, 199, 67, 140, 128, 147, 79, 107, 222, 68, 68, 47, 102, 62, 213, 68, 46, 44, 35, 219, 175, 101, 134, 182, 84, 191, 63, 160, 60, 131, 72, 20, 52, 181, 158, 48, 54, 55, 159, 157, 98, 66, 15, 253, 87, 233, 143, 129, 23, 86, 104, 10, 103, 114, 68, 149, 231, 57, 149, 219, 99, 45, 9, 35, 115, 41, 243, 67, 67, 101, 76, 128, 151, 154, 37, 102, 47, 78, 140, 64, 93, 179, 106, 107, 146, 96, 163, 243, 184, 97, 58, 63, 34, 111, 259, 29, 60, 16, 56, 35, 116, 113, 175, 40, 172, 73, 51, 75, 128, 34, 60, 47, 15, 19, 150, 96, 114, 107, 253, 60, 204, 31, 104, 75, 53, 201, 24, 160, 53, 166, 74, 26, 202, 178, 56, 39, 41, 245, 218, 75, 24, 40, 49, 77, 86, 177, 155, 208, 50, 77, 148, 43, 181, 34, 204, 140, 59, 116, 118, 132, 49, 146, 32, 235, 56, 201, 257, 143, 227, 61, 94, 136, 74, 58, 200, 135, 200, 75, 103, 96, 104, 37, 133, 107, 210, 190, 112, 116, 209, 59, 45, 147, 84, 144, 9, 109, 64, 225, 98, 38, 56, 252, 151, 111, 250, 46, 38, 123, 53, 44, 139, 200, 132, 75, 105, 78, 154, 136, 211, 145, 124, 93, 40, 211, 90, 143, 105, 128, 37, 64, 54, 142, 88, 75, 106, 109, 91, 59, 138, 68, 179, 71, 52, 92, 48, 67, 82, 165, 87, 29, 60, 24, 206, 52, 196, 85, 76, 154, 32, 47, 53, 47, 86, 118, 113, 77, 79, 67, 71, 40, 109, 173, 141, 75, 89, 42, 82, 39, 183, 207, 74, 83, 73, 86, 200, 62, 127, 136, 77, 136, 169, 105, 88, 75, 89, 111, 19, 80, 72, 30, 110, 107, 73, 146, 91, 153, 244, 90, 31, 153, 64, 93, 50, 111, 90, 157, 26, 154, 192, 206, 60, 100, 143, 85, 104, 62, 243, 10, 213, 58, 53, 214, 249, 70, 212, 251, 252, 46, 99, 166, 113, 5, 76, 124, 109, 167, 82, 180, 17, 51, 84, 44, 97, 131, 149, 113, 138, 37, 81, 50, 217, 131, 179, 72, 12, 94, 45, 185, 104, 185, 38, 71, 109, 45, 61, 175, 90, 197, 150, 134, 42, 78, 47, 243, 46, 61, 152, 55, 109, 165, 78, 56, 21, 77, 102, 39, 23, 64, 103, 78, 65, 31, 116, 220, 172, 39, 155, 51, 32, 100, 135, 49, 145, 202, 198, 125, 210, 62, 189, 225, 124, 18, 235, 88, 94, 201, 39, 64, 213, 82, 47, 258, 32, 236, 156, 152, 89, 76, 12, 98, 234, 11, 11, 78, 226, 83, 15, 57, 24, 230, 135, 25, 86, 181, 24, 242, 64, 31, 18, 78, 12, 39, 52, 65, 13, 191, 69, 73, 66, 55, 176, 30, 42, 94, 142, 152, 107, 198, 107, 40, 196, 102, 65, 71, 10, 20, 132, 54, 97, 21, 153, 22, 40, 97, 31, 59, 40, 107, 85, 108, 42, 31, 84, 242, 113, 61, 68, 70, 111, 217, 63, 207, 61, 109, 180, 61, 52, 112, 10, 250, 96, 126, 162, 39, 135, 19, 238, 32, 51, 142, 50, 230, 152, 19, 136, 33, 41, 173, 107, 76, 108, 134, 51, 57, 32, 77, 225, 39, 178, 193, 23, 98, 259, 35, 73, 142, 96, 42, 143, 45, 35, 40, 79, 43, 81, 63, 64, 21, 29, 57, 110, 77, 81, 41, 52, 93, 90, 103, 207, 27, 91, 144, 59, 175, 170, 184, 71, 179, 19, 43, 145, 71, 84, 255, 16, 85, 105, 159, 105, 65, 50, 42, 56, 205, 70, 57, 53, 18, 186, 10, 129, 61, 66, 49, 20, 257, 49, 67, 125, 65, 53, 19, 95, 119, 76, 42, 125, 48, 190, 29, 48, 42, 46, 52, 42, 142, 35, 42, 73, 11, 42, 46, 165, 145, 42, 86, 117, 36, 139, 124, 36, 155, 176, 210, 96, 55, 60, 138, 41, 43, 65, 217, 160, 136, 113, 76, 18, 39, 54, 147, 153, 108, 44, 51, 98, 132, 46, 57, 24, 57, 147, 49, 64, 43, 159, 176, 49, 87, 119, 121, 47, 26, 86, 106, 40, 48, 42, 53, 47, 65, 40, 22, 63, 50, 138, 44, 154, 69, 27, 80, 29, 32, 26, 86, 47, 118, 15, 95, 44, 153, 194, 55, 177, 196, 76, 251, 152, 50, 51, 16, 58, 36, 90, 17, 12, 36, 111, 31, 77, 65, 16, 75, 88, 27, 27, 81, 84, 247, 10, 81, 102, 54, 32, 245, 70, 54, 261, 107, 11, 83, 196, 75, 111, 90, 170, 222, 97, 46, 77, 34, 40, 8, 60, 63, 74, 25, 47, 41, 143, 70, 31, 51, 60, 133, 68, 102, 73, 52, 65, 122, 32, 210, 75, 189, 118, 103, 39, 14, 121, 37, 36, 178, 143, 164, 89, 37, 65, 105, 106, 139, 191, 158, 141, 209, 211, 43, 137, 79, 181, 43, 224, 179, 48, 143, 22, 60, 163, 51, 122, 198, 198, 88, 155, 62, 123, 175, 39, 37, 75, 149, 130, 140, 234, 168, 258, 224, 74, 82, 86, 46, 55, 69, 150, 52, 46, 122, 140, 126, 147, 224, 120, 96, 71, 51, 66, 27, 80, 119, 136, 29, 209, 66, 58, 148, 70, 45, 33, 78, 44, 37, 97, 166, 119, 52, 110, 127, 99, 54, 88, 80, 91, 173, 25, 209, 62, 249, 150, 135, 205, 185, 145, 51, 26, 129, 207, 129, 115, 110, 86, 86, 178, 39, 209, 180, 156, 58, 82, 162, 89, 13, 116, 78, 126, 185, 38, 122, 119, 242, 203, 95, 66, 46, 257, 185, 15, 32, 54, 8, 257, 124, 171, 95, 97, 47, 70, 163, 130, 201, 149, 194, 227, 206, 219, 74, 221, 126, 90, 74, 70, 146, 104, 119, 109, 49, 211, 145, 208, 150, 85, 42, 183, 132, 140, 174, 102, 88, 85, 18, 60, 28, 88, 82, 120, 144, 202, 147, 32, 189, 17, 115, 16, 124, 30, 57, 88, 62, 35, 133, 65, 127, 178, 158, 110, 25, 41, 69, 133, 48, 45, 14, 161, 88, 100, 34, 106, 134, 146, 143, 88, 68, 140, 63, 66, 224, 22, 83, 164, 82, 52, 203, 36, 188, 181, 12, 33, 92, 235, 40, 40, 156, 9, 198, 188, 105, 134, 68, 21, 137, 166, 85, 26, 109, 49, 84, 90, 251, 103, 34, 237, 114, 83, 45, 31, 80, 109, 68, 114, 185, 107, 241, 56, 121, 47, 62, 16, 238, 91, 158, 27, 167, 77, 109, 116, 33, 94, 145, 25, 53, 77, 65, 118, 55, 88, 175, 70, 155, 133, 41, 92, 109, 136, 154, 87, 132, 171, 42, 110, 36, 14, 104, 44, 134, 40, 169, 108, 193, 149, 118, 183, 106, 27, 13, 126, 99, 14, 67, 232, 102, 138, 143, 121, 42, 135, 104, 133, 95, 27, 68, 63, 99, 126, 154, 145, 182, 143, 99, 55, 8, 254, 87, 43, 127, 32, 109, 144, 64, 149, 61, 50, 92, 55, 59, 17, 232, 110, 103, 135, 199, 42, 52, 65, 64, 47, 176, 9, 20, 94, 44, 113, 56, 92, 160, 131, 130, 55, 107, 54, 47, 207, 68, 81, 41, 30, 92, 45, 124, 86, 104, 75, 148, 53, 103, 130, 42, 43, 139, 75, 138, 99, 85, 142, 57, 54, 125, 94, 140, 120, 43, 79, 92, 156, 80, 92, 218, 160, 154, 42, 44, 14, 62, 52, 106, 124, 51, 20, 77, 60, 39, 87, 120, 43, 68, 132, 125, 31, 48, 203, 24, 95, 51, 104, 39, 13, 161, 98, 63, 76, 231, 113, 89, 175, 64, 123, 17, 172, 38, 81, 61, 57, 67, 228, 42, 63, 121, 72, 31, 94, 161, 10, 92, 33, 186, 117, 145, 168, 135, 50, 119, 83, 85, 86, 39, 77, 33, 113, 21, 179, 71, 35, 122, 118, 125, 150, 38, 76, 112, 226, 160, 191, 55, 100, 148, 199, 180, 73, 12, 242, 87, 14, 18, 196, 148, 81, 151, 101, 145, 85, 245, 22, 154, 157, 141, 256, 34, 24, 33, 254, 13, 116, 137, 113, 108, 104, 169, 188, 98, 120, 134, 31, 85, 107, 239, 25, 127, 113, 81, 218, 107, 198, 32, 76, 50, 106, 143, 75, 24, 71, 105, 81, 120, 83, 110, 5, 229, 108, 43, 238, 103, 131, 12, 194, 76, 95, 76, 75, 69, 39, 153, 57, 42, 115, 73, 32, 114, 172, 28, 19, 174, 31, 215, 61, 122, 53, 70, 21, 146, 60, 42, 138, 54, 83, 162, 86, 204, 79, 24, 175, 104, 150, 33, 80, 66, 58, 128, 176, 93, 30, 98, 265, 172, 76, 181, 145, 58, 97, 42, 281, 155, 21, 157, 191, 38, 81, 36, 62, 154, 78, 111, 14, 68, 88, 84, 99, 43, 31, 139, 146, 117, 25, 54, 169, 26, 70, 113, 64, 113, 89, 94, 120, 52, 124, 120, 217, 23, 44, 50, 207, 35, 130, 51, 253, 127, 67, 53, 90, 134, 43, 206, 46, 81, 20, 65, 40, 186, 168, 202, 93, 246, 18, 86, 91, 44, 121, 102, 189, 29, 85, 33, 56, 230, 166, 110, 17, 125, 166, 56, 112, 46, 109, 52, 124, 241, 120, 55, 218, 77, 47, 47, 56, 45, 55, 21, 30, 76, 107, 70, 64, 45, 44, 196, 52, 147, 76, 145, 118, 44, 31, 134, 96, 12, 34, 68, 104, 170, 121, 223, 131, 101, 146, 113, 61, 116, 137, 131, 162, 153, 34, 127, 195, 107, 111, 48, 56, 194, 39, 92, 235, 167, 184, 143, 224, 138, 25, 16, 86, 143, 47, 175, 139, 107, 207, 145, 188, 156, 171, 161, 61, 143, 55, 159, 88, 19, 127, 155, 231, 19, 75, 155, 128, 162, 130, 124, 66, 72, 105, 137, 122, 140, 204, 67, 178, 40, 54, 204, 30, 69, 100, 55, 88, 80, 87, 87, 76, 102, 131, 91, 115, 115, 116, 80, 61, 28, 121, 159, 115, 128, 50, 115, 73, 39, 44, 49, 79, 100, 190, 29, 228, 207, 150, 63, 82, 50, 191, 94, 147, 126, 52, 55, 125, 108, 129, 212, 115, 103, 62, 82, 18, 192, 73, 148, 91, 116, 49, 17, 58, 112, 84, 100, 29, 68, 93, 81, 52, 45, 62, 95, 98, 127, 90, 215, 136, 174, 105, 178, 18, 42, 67, 150, 64, 53, 138, 59, 98, 124, 134, 73, 101, 53, 42, 74, 5, 105, 221, 162, 141, 145, 15, 54, 102, 18, 172, 44, 120, 52, 243, 223, 60, 208, 73, 216, 149, 61, 52, 64, 152, 58, 95, 14, 56, 86, 154, 92, 195, 89, 191, 21, 106, 256, 59, 176, 176, 49, 148, 37, 201, 148, 90, 120, 85, 177, 98, 77, 99, 123, 180, 62, 94, 28, 119, 28, 63, 70, 138, 115, 65, 137, 78, 213, 154, 96, 139, 45, 115, 115, 230, 137, 157, 161, 114, 69, 92, 195, 103, 10, 32, 192, 97, 38, 43, 81, 106, 86, 34, 81, 189, 212, 93, 64, 38, 159, 71, 132, 141, 74, 35, 66, 119, 20, 174, 115, 165, 9, 140, 108, 59, 158, 63, 65, 51, 189, 100, 139, 96, 191, 97, 47, 57, 125, 33, 101, 146, 62, 256, 106, 75, 161, 69, 178, 130, 36, 31, 110, 158, 34, 36, 208, 23, 69, 17, 151, 29, 148, 156, 115, 132, 91, 43, 78, 79, 74, 217, 179, 58, 158, 117, 189, 158, 159, 259, 91, 159, 47, 58, 43, 66, 185, 159, 46, 59, 54, 84, 211, 73, 53, 144, 222, 60, 38, 52, 140, 182, 16, 137, 140, 70, 58, 127, 71, 131, 143, 101, 123, 240, 121, 72, 118, 70, 33, 47, 66, 84, 40, 128, 258, 54, 68, 199, 70, 88, 132, 23, 204, 72, 204, 170, 74, 61, 109, 37, 17, 95, 153, 185, 98, 109, 250, 23, 55, 123, 64, 185, 16, 115, 192, 21, 139, 68, 235, 10, 144, 30, 145, 56, 20, 69, 125, 176, 171, 60, 35, 20, 65, 131, 12, 87, 102, 261, 67, 80, 219, 195, 147, 98, 66, 82, 199, 54, 76, 169, 11, 33, 56, 52, 28, 197, 177, 33, 41, 55, 83, 34, 128, 42, 45, 63, 230, 59, 116, 86, 88, 105, 21, 117, 151, 196, 28, 220, 53, 63, 38, 29, 128, 47, 94, 45, 126, 73, 98, 27, 144, 92, 185, 22, 84, 230, 202, 159, 160, 191, 50, 134, 85, 64, 31, 138, 169, 30, 36, 98, 103, 85, 112, 186, 104, 54, 55, 54, 237, 127, 44, 58, 125, 125, 27, 50, 215, 79, 61, 126, 61, 57, 152, 93, 131, 173, 218, 117, 92, 52, 89, 163, 83, 207, 172, 101, 8, 55, 201, 76, 123, 248, 115, 97, 71, 104, 18, 125, 20, 153, 32, 202, 111, 160, 184, 79, 96, 47, 59, 128, 104, 93, 92, 86, 79, 87, 96, 224, 46, 33, 240, 41, 44, 21, 103, 92, 36, 35, 135, 62, 42, 165, 92, 136, 101, 30, 23, 132, 76, 53, 23, 106, 79, 78, 85, 16, 78, 200, 115, 45, 132, 15, 22, 37, 24, 24, 41, 37, 61, 76, 164, 68, 44, 57, 85, 35, 131, 71, 86, 42, 150, 153, 73, 228, 122, 52, 154, 13, 83, 74, 118, 99, 40, 87, 57, 206, 87, 26, 172, 87, 76, 161, 97, 97, 68, 157, 63, 75, 92, 195, 136, 89, 175, 119, 35, 166, 131, 37, 101, 112, 109, 188, 115, 130, 106, 69, 69, 67, 14, 12, 50, 70, 165, 18, 56, 134, 56, 223, 44, 139, 110, 106, 33, 97, 137, 141, 198, 16, 40, 53, 71, 15, 103, 104, 32, 54, 241, 75, 178, 88, 118, 97, 163, 60, 123, 77, 150, 158, 146, 77, 78, 22, 200, 154, 163, 58, 91, 159, 138, 55, 89, 58, 178, 40, 69, 99, 46, 58, 128, 48, 143, 64, 64, 96, 225, 10, 115, 68, 197, 85, 243, 74, 64, 136, 187, 144, 95, 107, 68, 215, 124, 85, 226, 107, 41, 53, 217, 136, 91, 128, 75, 86, 219, 43, 133, 18, 87, 37, 90, 58, 175, 102, 83, 92, 37, 108, 104, 204, 77, 100, 145, 129, 96, 29, 154, 71, 95, 52, 90, 111, 12, 46, 195, 37, 128, 121, 87, 40, 40, 128, 103, 63, 36, 134, 27, 122, 32, 37, 87, 159, 42, 57, 182, 138, 54, 73, 78, 75, 175, 133, 104, 141, 32, 160, 94, 247, 63, 144, 221, 177, 77, 47, 64, 62, 76, 118, 76, 70, 18, 73, 116, 15, 106, 132, 32, 35, 77, 105, 188, 181, 112, 165, 120, 142, 117, 98, 52, 187, 115, 181, 75, 70, 112, 129, 121, 188, 24, 73, 15, 6, 232, 28, 19, 111, 60, 83, 253, 52, 41, 255, 46, 91, 223, 100, 41, 67, 209, 53, 54, 211, 75, 68, 219, 74, 15, 52, 83, 80, 116, 41, 60, 45, 73, 227, 204, 74, 98, 33, 213, 167, 27, 15, 74, 113, 89, 157, 161, 227, 164, 76, 203, 54, 65, 78, 134, 85, 58, 62, 117, 26, 18, 166, 28, 212, 59, 120, 147, 78, 232, 49, 147, 153, 51, 141, 24, 102, 49, 188, 247, 234, 144, 95, 71, 223, 146, 30, 51, 157, 99, 24, 24, 13, 24, 69, 32, 19, 215, 194, 49, 55, 194, 77, 96, 110, 39, 53, 100, 31, 108, 166, 179, 14, 135, 59, 207, 137, 83, 185, 58, 167, 111, 101, 90, 105, 203, 46, 56, 119, 31, 38, 48, 135, 28, 62, 88, 101, 57, 120, 166, 68, 26, 81, 51, 240, 8, 57, 260, 121, 146, 151, 60, 138, 35, 128, 123, 147, 177, 116, 28, 27, 64, 21, 146, 36, 110, 109, 126, 152, 87, 60, 178, 50, 60, 142, 105, 16, 75, 114, 25, 108, 31, 33, 156, 116, 145, 145, 62, 104, 125, 156, 252, 258, 110, 73, 60, 75, 89, 187, 99, 101, 117, 21, 55, 17, 47, 180, 53, 38, 161, 137, 103, 36, 79, 112, 222, 187, 77, 190, 105, 60, 186, 115, 223, 67, 59, 241, 121, 72, 120, 69, 83, 183, 121, 159, 53, 182, 129, 59, 58, 46, 211, 33, 193, 88, 64, 182, 189, 101, 144, 56, 77, 140, 72, 27, 69, 183, 146, 110, 29, 161, 229, 153, 180, 89, 66, 69, 88, 236, 180, 59, 82, 265, 70, 45, 143, 95, 67, 68, 59, 91, 46, 74, 114, 131, 47, 71, 46, 183, 175, 169, 180, 38, 83, 242, 22, 217, 89, 78, 125, 22, 70, 94, 16, 51, 225, 115, 74, 220, 131, 22, 73, 48, 112, 23, 96, 172, 28, 203, 63, 255, 20, 83, 57, 57, 79, 37, 19, 128, 27, 104, 168, 64, 104, 141, 155, 74, 42, 18, 50, 75, 52, 195, 131, 131, 40, 26, 52, 159, 53, 62, 29, 207, 202, 180, 141, 42, 65, 80, 123, 25, 21, 14, 132, 27, 63, 101, 43, 38, 183, 238, 108, 70, 89, 63, 111, 99, 155, 174, 57, 192, 129, 171, 126, 48, 111, 231, 62, 89, 38, 93, 229, 133, 129, 161, 192, 229, 93, 158, 69, 64, 80, 218, 43, 46, 48, 32, 73, 48, 60, 48, 92, 55, 48, 48, 74, 90, 90, 205, 56, 64, 86, 171, 154, 47, 50, 223, 74, 52, 162, 51, 43, 75, 80, 139, 106, 115, 124, 151, 80, 226, 207, 179, 133, 43, 193, 19, 82, 115, 91, 68, 156, 55, 52, 81, 57, 86, 208, 167, 254, 92, 117, 79, 73, 66, 137, 26, 58, 96, 45, 86, 83, 62, 58, 67, 112, 55, 171, 79, 23, 22, 73, 201, 121, 137, 263, 127, 180, 85, 30, 99, 209, 22, 231, 83, 47, 175, 144, 63, 239, 130, 250, 150, 162, 62, 238, 45, 225, 119, 114, 139, 246, 108, 194, 61, 151, 64, 238, 180, 102, 245, 235, 73, 184, 241, 68, 51, 217, 7, 110, 221, 217, 53, 9, 233, 213, 65, 58, 140, 77, 95, 64, 177, 111, 107, 219, 26, 222, 27, 220, 167, 84, 176, 129, 189, 227, 34, 67, 164, 116, 113, 41, 50, 97, 67, 234, 93, 53, 142, 209, 86, 39, 38, 105, 18, 44, 75, 13, 123, 51, 80, 120, 112, 16, 159, 70, 83, 62, 39, 114, 70, 9, 72, 80, 163, 68, 174, 41, 30, 61, 43, 120, 107, 93, 232, 36, 103, 94, 178, 101, 25, 141, 193, 171, 231, 12, 28, 202, 98, 62, 210, 28, 98, 198, 137, 187, 42, 193, 103, 115, 185, 79, 192, 132, 139, 120, 153, 21, 38, 33, 32, 235, 177, 160, 206, 103, 64, 160, 201, 60, 220, 104, 184, 92, 160, 96, 15, 119, 80, 35, 250, 243, 38, 168, 182, 34, 117, 82, 31, 117, 69, 173, 101, 19, 251, 68, 31, 159, 218, 207, 34, 25, 136, 32, 249, 32, 37, 205, 60, 34, 41, 134, 62, 220, 92, 58, 218, 243, 170, 93, 153, 12, 64, 109, 131, 159, 11, 35, 105, 198, 98, 57, 154, 178, 63, 52, 12, 39, 42, 132, 135, 196, 161, 122, 47, 53, 71, 43, 114, 44, 113, 66, 74, 78, 219, 132, 37, 208, 83, 201, 182, 113, 54, 46, 24, 149, 17, 24, 178, 29, 64, 155, 11, 71, 60, 188, 132, 208, 265, 72, 43, 77, 63, 50, 230, 42, 75, 101, 81, 203, 221, 97, 79, 50, 15, 236, 234, 145, 49, 12, 200, 61, 149, 93, 56, 122, 108, 55, 234, 194, 55, 62, 155, 139, 106, 151, 210, 7, 21, 217, 195, 172, 145, 16, 123, 151, 139, 20, 63, 101, 78, 20, 149, 9, 261, 61, 116, 162, 48, 88, 56, 251, 147, 89, 53, 143, 116, 37, 30, 118, 104, 86, 157, 167, 37, 25, 207, 54, 57, 150, 75, 103, 239, 51, 123, 60, 50, 29, 29, 34, 39, 43, 79, 59, 90, 71, 69, 52, 143, 59, 184, 103, 60, 80, 79, 159, 52, 198, 121, 108, 93, 147, 204, 30, 64, 156, 70, 54, 123, 167, 44, 68, 201, 44, 116, 64, 72, 84, 17, 38, 225, 100, 19, 20, 110, 115, 185, 107, 119, 95, 194, 58, 69, 113, 61, 151, 60, 60, 29, 83, 177, 140, 95, 46, 124, 206, 136, 144, 100, 190, 97, 44, 191, 62, 74, 217, 108, 214, 110, 62, 100, 118, 41, 47, 157, 116, 195, 84, 39, 34, 62, 148, 234, 42, 45, 101, 196, 138, 23, 61, 109, 100, 36, 38, 25, 61, 64, 197, 164, 82, 40, 160, 220, 105, 168, 124, 13, 246, 196, 69, 76, 104, 142, 68, 78, 85, 65, 91, 38, 60, 74, 151, 23, 125, 98, 128, 44, 212, 125, 62, 64, 73, 81, 163, 196, 76, 47, 51, 29, 154, 150, 51, 62, 21, 57, 88, 161, 47, 107, 125, 222, 40, 121, 85, 55, 229, 170, 227, 190, 118, 88, 100, 55, 196, 150, 165, 170, 70, 199, 25, 83, 68, 42, 88, 192, 37, 37, 23, 181, 67, 200, 141, 93, 67, 20, 73, 25, 240, 44, 84, 214, 50, 162, 203, 186, 67, 146, 147, 65, 184, 178, 144, 48, 160, 86, 198, 72, 140, 224, 120, 113, 33, 44, 100, 138, 46, 18, 47, 117, 52, 47, 48, 146, 122, 114, 165, 31, 171, 13, 12, 44, 58, 164, 235, 224, 199, 228, 215, 74, 199, 52, 20, 263, 80, 244, 109, 82, 260, 13, 183, 158, 24, 118, 67, 65, 113, 139, 146, 184, 36, 184, 53, 202, 190, 105, 68, 76, 54, 191, 261, 177, 18, 184, 147, 195, 233, 90, 61, 51, 91, 243, 61, 92, 34, 57, 110, 178, 132, 145, 180, 78, 142, 155, 206, 16, 115, 44, 49, 199, 65, 73, 78, 14, 48, 111, 24, 238, 235, 87, 128, 96, 18, 78, 116, 43, 37, 63, 53, 243, 101, 131, 13, 149, 91, 141, 163, 90, 184, 67, 49, 26, 135, 60, 147, 127, 184, 37, 129, 212, 52, 100, 230, 112, 77, 15, 238, 140, 12, 194, 37, 112, 11, 35, 49, 135, 123, 174, 95, 135, 101, 12, 56, 160, 136, 192, 197, 40, 167, 154, 221, 82, 178, 252, 64, 125, 156, 218, 71, 90, 97, 36, 47, 70, 43, 70, 77, 37, 77, 81, 44, 31, 108, 59, 41, 66, 115, 143, 89, 202, 32, 68, 19, 17, 54, 81, 64, 154, 43, 78, 48, 140, 75, 78, 19, 35, 191, 104, 224, 57, 79, 32, 65, 110, 84, 125, 108, 20, 142, 192, 61, 66, 163, 41, 200, 15, 132, 165, 26, 12, 124, 94, 145, 178, 55, 23, 181, 76, 13, 173, 133, 96, 220, 149, 10, 193, 211, 33, 159, 138, 219, 81, 223, 254, 57, 134, 46, 7, 207, 135, 122, 72, 102, 201, 249, 89, 81, 81, 42, 71, 55, 130, 78, 165, 172, 80, 128, 13, 246, 44, 118, 102, 244, 40, 128, 42, 54, 58, 165, 65, 25, 153, 157, 159, 12, 22, 79, 196, 18, 14, 130, 118, 56, 112, 54, 240, 146, 47, 91, 239, 243, 30, 21, 26, 31, 126, 134, 220, 87, 32, 240, 230, 177, 90, 22, 56, 183, 152, 154, 29, 149, 93, 183, 12, 37, 265, 100, 36, 148, 186, 132, 119, 69, 238, 6, 157, 131, 31, 108, 88, 181, 115, 145, 80, 13, 216, 86, 105, 99, 28, 17, 84, 169, 202, 23, 44, 91, 106, 157, 191, 168, 57, 36, 232, 71, 140, 137, 128, 84, 217, 17, 65, 62, 50, 96, 47, 81, 92, 72, 34, 39, 128, 153, 39, 197, 93, 86, 41, 39, 48, 69, 164, 23, 191, 237, 119, 100, 237, 80, 188, 66, 58, 188, 242, 161, 113, 89, 191, 149, 78, 85, 37, 200, 28, 41, 47, 121, 38, 13, 103, 134, 169, 29, 85, 215, 49, 82, 203, 91, 257, 37, 130, 154, 65, 94, 30, 87, 90, 22, 21, 129, 191, 76, 121, 105, 59, 20, 90, 225, 49, 103, 179, 67, 42, 167, 27, 61, 157, 78, 27, 12, 59, 125, 50, 171, 69, 40, 147, 18, 31, 181, 103, 119, 112, 235, 12, 128, 83, 104, 140, 84, 176, 76, 56, 132, 37, 68, 39, 99, 75, 211, 99, 225, 160, 184, 161, 44, 81, 80, 26, 53, 46, 51, 139, 65, 228, 53, 52, 226, 112, 82, 177, 169, 24, 79, 114, 206, 65, 46, 59, 164, 101, 98, 60, 111, 56, 118, 170, 74, 63, 67, 68, 111, 137, 40, 34, 65, 113, 154, 168, 117, 266, 180, 156, 41, 68, 199, 112, 61, 52, 10, 212, 40, 30, 147, 222, 50, 188, 15, 41, 35, 146, 128, 202, 45, 58, 104, 166, 43, 31, 45, 141, 211, 251, 73, 133, 148, 32, 73, 125, 87, 200, 96, 264, 20, 40, 26, 67, 83, 148, 190, 83, 93, 115, 157, 72, 27, 109, 36, 118, 254, 90, 95, 23, 80, 62, 129, 75, 43, 221, 43, 82, 173, 246, 77, 20, 37, 35, 12, 132, 209, 26, 93, 23, 81, 49, 42, 179, 26, 142, 198, 13, 131, 141, 20, 24, 158, 31, 55, 178, 75, 41, 169, 103, 62, 37, 68, 15, 95, 107, 29, 233, 86, 95, 49, 243, 109, 152, 94, 15, 111, 222, 50, 125, 73, 55, 83, 227, 148, 78, 74, 234, 168, 105, 98, 52, 11, 67, 117, 23, 58, 10, 236, 192, 193, 232, 56, 198, 88, 56, 74, 161, 66, 16, 90, 34, 85, 216, 254, 192, 59, 164, 35, 242, 76, 206, 69, 168, 99, 26, 60, 51, 126, 29, 77, 52, 47, 90, 186, 23, 110, 255, 257, 184, 253, 266, 253, 89, 42, 161, 111, 178, 62, 62, 23, 212, 45, 37, 131, 106, 124, 131, 156, 58, 33, 23, 89, 130, 42, 99, 139, 165, 113, 107, 120, 116, 133, 81, 121, 42, 114, 61, 56, 134, 37, 48, 153, 246, 21, 10, 151, 96, 10, 115, 72, 95, 53, 49, 142, 242, 125, 248, 232, 62, 213, 165, 95, 175, 57, 161, 30, 133, 53, 87, 79, 72, 141, 111, 111, 83, 195, 17, 109, 99, 78, 97, 100, 223, 96, 199, 75, 195, 60, 201, 10, 214, 193, 152, 144, 90, 16, 180, 165, 57, 82, 124, 228, 222, 161, 115, 30, 34, 146, 141, 108, 242, 142, 246, 116, 197, 26, 59, 64, 148, 54, 26, 223, 166, 264, 247, 164, 94, 215, 50, 184, 227, 93, 45, 258, 14, 136, 81, 37, 223, 153, 245, 52, 88, 158, 75, 163, 129, 109, 180, 122, 102, 90, 59, 161, 65, 131, 73, 170, 53, 195, 160, 25, 48, 38, 17, 99, 220, 207, 70, 13, 248, 10, 262, 115, 124, 203, 106, 56, 47, 67, 63, 62, 227, 114, 60, 113, 64, 90, 133, 171, 218, 118, 22, 175, 18, 118, 133, 18, 64, 203, 138, 91, 167, 243, 175, 23, 224, 86, 57, 114, 141, 30, 102, 210, 173, 148, 19, 252, 51, 66, 205, 170, 209, 193, 207, 232, 217, 74, 89, 35, 36, 122, 57, 64, 153, 161, 201, 129, 46, 63, 62, 120, 206, 31, 80, 71, 100, 33, 54, 54, 244, 64, 165, 41, 26, 224, 48, 179, 89, 162, 28, 220, 115, 181, 186, 77, 168, 202, 228, 72, 22, 58, 170, 144, 95, 102, 74, 75, 81, 186, 49, 112, 44, 40, 135, 219, 145, 266, 57, 79, 192, 31, 204, 73, 72, 61, 69, 156, 51, 40, 133, 11, 61, 150, 69, 143, 247, 80, 102, 87, 65, 179, 29, 49, 94, 239, 249, 51, 68, 82, 224, 25, 52, 223, 93, 123, 116, 54, 235, 247, 72, 35, 26, 114, 104, 72, 167, 22, 42, 102, 137, 25, 146, 159, 24, 151, 41, 114, 86, 106, 136, 53, 223, 84, 76, 120, 162, 44, 84, 12, 95, 253, 148, 52, 105, 35, 96, 92, 101, 85, 113, 34, 117, 39, 142, 40, 74, 134, 41, 134, 130, 124, 147, 228, 144, 49, 249, 41, 43, 40, 234, 171, 86, 83, 59, 47, 96, 253, 50, 98, 81, 18, 233, 206, 227, 71, 124, 213, 30, 73, 251, 52, 27, 213, 246, 99, 171, 250, 124, 14, 186, 246, 127, 179, 82, 107, 32, 47, 106, 112, 229, 132, 11, 62, 45, 188, 104, 51, 64, 25, 70, 244, 95, 117, 39, 230, 76, 200, 198, 125, 243, 82, 147, 22, 18, 104, 260, 87, 259, 18, 88, 16, 18, 148, 210, 123, 160, 91, 249, 255, 142, 229, 186, 204, 75, 46, 149, 104, 182, 12, 121, 8, 55, 34, 78, 148, 214, 59, 81, 190, 24, 144, 253, 196, 186, 33, 79, 44, 33, 23, 43, 217, 159, 240, 214, 47, 57, 77, 29, 158, 77, 126, 132, 119, 149, 126, 96, 113, 239, 219, 75, 159, 197, 98, 138, 112, 214, 184, 200, 21, 108, 53, 121, 223, 31, 28, 221, 47, 84, 97, 154, 165, 97, 85, 62, 30, 38, 223, 57, 78, 218, 212, 17, 106, 54, 43, 209, 34, 75, 45, 40, 187, 197, 69, 87, 228, 108, 220, 180, 185, 181, 192, 66, 67, 66, 39, 100, 46, 21, 125, 223, 42, 42, 183, 8, 53, 162, 28, 43, 217, 94, 159, 161, 202, 94, 57, 55, 231, 189, 57, 146, 170, 85, 122, 259, 75, 58, 209, 258, 57, 123, 164, 157, 116, 156, 108, 62, 37, 216, 63, 183, 110, 173, 101, 214, 263, 18, 232, 103, 43, 212, 230, 231, 49, 62, 70, 143, 124, 126, 86, 15, 94, 223, 102, 135, 133, 78, 98, 177, 58, 156, 223, 30, 94, 132, 220, 87, 70, 89, 215, 159, 49, 114, 98, 197, 62, 71, 152, 110, 132, 42, 254, 232, 158, 164, 19, 86, 244, 52, 234, 43, 83, 19, 118, 118, 145, 79, 145, 174, 6, 130, 40, 42, 19, 43, 35, 234, 31, 117, 61, 89, 54, 209, 44, 74, 64, 27, 91, 40, 228, 60, 229, 241, 236, 51, 87, 236, 44, 102, 251, 23, 187, 231, 243, 28, 42, 166, 52, 58, 167, 195, 227, 29, 30, 243, 108, 89, 102, 90, 57, 186, 159, 121, 21, 176, 206, 27, 44, 214, 42, 51, 183, 37, 247, 179, 204, 244, 243, 55, 230, 245, 123, 35, 5, 192, 86, 187, 30, 118, 167, 39, 7, 179, 23, 107, 19, 46, 104, 140, 58, 260, 179, 34, 31, 101, 37, 51, 111, 222, 47, 37, 42, 166, 217, 29, 35, 68, 77, 55, 96, 37, 48, 146, 12, 31, 92, 150, 34, 113, 261, 13, 30, 215, 163, 45, 59, 15, 72, 255, 12, 85, 111, 10, 245, 23, 56, 17, 94, 232, 98, 62, 69, 199, 93, 141, 153, 220, 153, 43, 193, 104, 14, 63, 67, 96, 144, 117, 223, 215, 81, 80, 48, 114, 24, 64, 51, 60, 163, 166, 86, 9, 34, 249, 94, 32, 35, 71, 26, 77, 100, 122, 81, 225, 73, 118, 123, 166, 17, 82, 70, 171, 36, 116, 34, 96, 14, 115, 263, 11, 81, 144, 22, 53, 24, 8, 17, 60, 168, 18, 33, 29, 24, 90, 116, 72, 237, 26, 70, 36, 40, 59, 70, 34, 13, 118, 30, 33, 64, 106, 154, 259, 136, 41, 190, 22, 32, 96, 177, 33, 117, 171, 68, 42, 74, 131, 118, 99, 132, 81, 54, 19, 201, 11, 92, 29, 202, 18, 251, 39, 112, 52, 155, 118, 35, 94, 201, 97, 174, 84, 92, 137, 49, 137, 26, 68, 189, 57, 20, 126, 41, 7, 119, 108, 17, 59, 87, 153, 117, 89, 30, 101, 47, 51, 33, 22, 138, 114, 107, 142, 57, 97, 178, 10, 119, 36, 229, 93, 89, 186, 155, 88, 144, 9, 244, 89, 43, 69, 30, 41, 16, 39, 178, 19, 119, 46, 127, 212, 126, 33, 137, 240, 118, 138, 7, 67, 20, 141, 17, 68, 19, 73, 123, 177, 11, 131, 40, 175, 140, 36, 118, 25, 142, 9, 49, 77, 37, 43, 57, 12, 118, 159, 61, 231, 12, 232, 129, 69, 138, 113, 28, 259, 166, 130, 24, 91, 93, 77, 224, 76, 52, 99, 227, 36, 250, 109, 16, 71, 118, 114, 31, 54, 46, 109, 41, 258, 58, 37, 47, 43, 153, 175, 115, 183, 24, 39, 24, 173, 71, 30, 84, 195, 258, 42, 60, 113, 27, 127, 109, 106, 192, 98, 24, 78, 5, 97, 234, 23, 59, 22, 72, 21, 226, 172, 143, 122, 23, 185, 15, 130, 164, 98, 132, 267, 78, 82, 96, 170, 114, 58, 95, 205, 11, 73, 174, 78, 136, 158, 138, 139, 76, 234, 51, 205, 171, 129, 9, 185, 44, 16, 179, 31, 229, 24, 144, 122, 158, 21, 207, 21, 119, 94, 78, 219, 119, 38, 74, 108, 229, 31, 29, 171, 164, 77, 34, 263, 55, 138, 24, 150, 134, 98, 18, 132, 101, 191, 76, 79, 20, 119, 85, 118, 181, 21, 74, 167, 25, 156, 101, 209, 180, 118, 231, 58, 17, 174, 15, 93, 15, 36, 143, 116, 43, 156, 69, 133, 58, 49, 85, 184, 62, 235, 173, 160, 203, 75, 227, 42, 155, 265, 258, 25, 118, 224, 176, 92, 19, 112, 233, 63, 128, 78, 118, 7, 207, 115, 96, 55, 118, 118, 47, 84, 113, 65, 57, 78, 214, 87, 53, 187, 118, 26, 45, 52, 16, 151, 83, 166, 143, 246, 50, 118, 78, 86, 171, 201, 105, 210, 95, 64, 120, 161, 216, 35, 156, 193, 13, 91, 159, 47, 108, 119, 38, 118, 26, 189, 120, 60, 227, 118, 87, 118, 78, 236, 118, 148, 11, 118, 31, 118, 118, 118, 248, 20, 118, 94, 260, 118, 118, 118, 118, 193, 118, 118, 83, 118, 118, 118, 118, 118, 118, 118, 74, 118, 61, 118, 29, 124, 118, 118, 168, 118, 203, 118, 118, 118, 118, 118, 72, 118, 118, 118, 118, 118, 122, 201, 118, 118, 118, 118, 118, 118, 118, 118, 118, 118, 118, 118, 118, 118, 118, 118, 118, 118, 120, 148, 114, 6, 58, 103, 60, 49, 50, 59, 51, 196, 121, 46, 76, 144, 26, 60, 87, 56, 250, 217, 49, 74, 98, 169, 67, 201, 126, 239, 86, 84, 118, 192, 99, 93, 75, 233, 240, 61, 119, 177, 43, 152, 173, 235, 114, 20, 44, 98, 159, 66, 218, 21, 134, 219, 136, 225, 49, 103, 26, 212, 52, 115, 173, 121, 120, 241, 249, 71, 134, 232, 194, 101, 11, 64, 192, 75, 173, 89, 76, 113, 96, 252, 224, 249, 177, 112, 100, 99, 29, 125, 44, 118, 98, 80, 28, 70, 99, 175, 54, 173, 97, 138, 6, 81, 89, 122, 197, 189, 51, 218, 59, 139, 119, 260, 72, 10, 249, 84, 154, 77, 130, 97, 133, 77, 112, 98, 77, 175, 130, 49, 191, 57, 43, 192, 121, 89, 52, 88, 31, 96, 182, 139, 86, 170, 87, 120, 28, 175, 51, 81, 83, 47, 118, 107, 264, 97, 12, 60, 23, 62, 55, 14, 174, 139, 238, 176, 237, 138, 61, 19, 209, 55, 6, 181, 197, 99, 135, 118, 72, 115, 17, 45, 114, 88, 22, 118, 43, 67, 67, 61, 37, 53, 31, 102, 54, 147, 62, 243, 241, 19, 214, 15, 247, 59, 8, 139, 30, 91, 33, 31, 164, 202, 111, 226, 90, 154, 53, 59, 135, 91, 74, 52, 137, 237, 54, 180, 203, 173, 57, 234, 124, 180, 182, 74, 226, 248, 83, 65, 218, 184, 86, 32, 95, 28, 44, 253, 222, 163, 106, 240, 38, 259, 13, 63, 48, 179, 187, 67, 61, 230, 76, 127, 102, 29, 185, 7, 123, 130, 40, 27, 133, 210, 36, 179, 143, 57, 137, 118, 177, 46, 110, 173, 24, 58, 176, 45, 29, 188, 183, 53, 97, 28, 49, 232, 105, 183, 122, 49, 67, 115, 68, 33, 194, 69, 125, 38, 198, 50, 26, 74, 5, 110, 58, 150, 111, 212, 158, 96, 96, 96, 48, 127, 118, 42, 23, 204, 96, 183, 106, 230, 139, 224, 96, 20, 21, 101, 89, 87, 44, 74, 72, 100, 15, 26, 160, 175, 225, 108, 48, 34, 96, 100, 233, 143, 38, 218, 251, 179, 22, 27, 94, 108, 60, 62, 54, 26, 26, 118, 99, 37, 120, 58, 206, 188, 183, 89, 64, 119, 158, 61, 94, 51, 32, 74, 42, 41, 5, 40, 112, 144, 134, 21, 145, 235, 43, 124, 60, 60, 108, 18, 172, 19, 130, 40, 169, 15, 217, 17, 45, 42, 27, 230, 98, 163, 61, 12, 238, 112, 97, 37, 23, 38, 38, 134, 188, 24, 202, 223, 23, 102, 80, 20, 78, 72, 150, 79, 244, 91, 42, 150, 123, 250, 85, 52, 105, 20, 190, 20, 32, 246, 178, 226, 63, 93, 182, 6, 167, 52, 17, 79, 216, 198, 76, 204, 36, 86, 21, 124, 61, 190, 215, 60, 34, 57, 169, 104, 141, 111, 119, 32, 243, 63, 161, 16, 38, 37, 250, 221, 253, 189, 60, 31, 114, 28, 128, 107, 195, 142, 77, 191, 225, 77, 216, 12, 129, 89, 149, 139, 255, 139, 116, 67, 209, 113, 230, 99, 43, 77, 55, 148, 71, 252, 72, 107, 238, 115, 62, 11, 56, 51, 53, 84, 48, 41, 41, 127, 43, 41, 48, 20, 95, 147, 53, 43, 116, 90, 78, 103, 103, 44, 84, 82, 135, 38, 88, 48, 20, 197, 44, 176, 10, 17, 168, 107, 11, 55, 45, 76, 84, 75, 125, 86, 13, 102, 108, 44, 150, 107, 37, 143, 118, 61, 101, 147, 158, 53, 94, 25, 238, 215, 114, 35, 45, 118, 69, 86, 70, 50, 193, 126, 100, 143, 41, 180, 108, 192, 110, 86, 192, 14, 17, 90, 31, 65, 158, 13, 67, 22, 135, 75, 43, 8, 114, 40, 98, 56, 97, 17, 40, 65, 144, 45, 53, 64, 79, 109, 70, 43, 120, 93, 88, 222, 111, 20, 9, 11, 41, 109, 41, 94, 49, 47, 193, 56, 213, 100, 224, 199, 118, 66, 13, 75, 98, 35, 95, 30, 105, 58, 169, 93, 108, 112, 63, 81, 143, 121, 7, 78, 36, 251, 38, 97, 100, 31, 44, 36, 66, 43, 84, 14, 80, 23, 83, 9, 89, 41, 31, 130, 18, 41, 66, 136, 168, 118, 16, 158, 66, 27, 134, 89, 137, 59, 35, 6, 53, 44, 60, 40, 14, 55, 204, 13, 16, 182, 149, 80, 60, 73, 236, 8, 40, 41, 54, 27, 46, 100, 60, 64, 81, 69, 12, 50, 43, 52, 17, 209, 88, 250, 71, 22, 58, 60, 184, 193, 100, 88, 31, 77, 164, 160, 121, 157, 130, 38, 26, 207, 69, 21, 77, 137, 142, 206, 66, 229, 105, 180, 116, 88, 93, 139, 47, 225, 27, 48, 83, 261, 165, 95, 54, 70, 63, 13, 24, 119, 141, 99, 39, 65, 98, 159, 31, 76, 106, 251, 39, 108, 210, 75, 168, 85, 101, 72, 90, 44, 154, 94, 74, 31, 89, 19, 83, 88, 54, 89, 50, 149, 21, 159, 74, 66, 49, 10, 52, 92, 239, 100, 15, 67, 54, 130, 233, 43, 125, 71, 115, 78, 68, 53, 59, 149, 103, 85, 59, 57, 74, 158, 88, 9, 66, 60, 23, 163, 26, 123, 83, 25, 114, 14, 137, 244, 195, 99, 17, 109, 183, 42, 191, 8, 195, 49, 84, 25, 38, 84, 178, 75, 125, 51, 197, 252, 11, 14, 30, 83, 129, 57, 17, 128, 82, 173, 165, 96, 229, 85, 79, 104, 56, 55, 184, 43, 82, 55, 180, 14, 166, 6, 73, 55, 211, 44, 94, 232, 54, 35, 118, 84, 24, 11, 60, 35, 70, 176, 160, 76, 106, 71, 111, 15, 64, 205, 205, 99, 205, 139, 65, 24, 40, 220, 26, 169, 190, 200, 141, 179, 119, 96, 118, 83, 112, 32, 173, 186, 32, 32, 151, 47, 32, 125, 32, 37, 206, 30, 16, 112, 74, 85, 75, 35, 179, 56, 112, 101, 92, 72, 121, 144, 58, 53, 76, 92, 92, 93, 154, 92, 32, 92, 115, 90, 51, 82, 93, 108, 104, 122, 23, 70, 160, 40, 109, 222, 184, 66, 48, 129, 86, 138, 32, 21, 96, 89, 31, 109, 63, 108, 31, 11, 56, 118, 113, 88, 81, 131, 101, 44, 14, 6, 115, 113, 91, 149, 66, 193, 82, 70, 226, 63, 9, 101, 14, 16, 17, 6, 62, 166, 226, 19, 26, 17, 86, 44, 160, 32, 75, 43, 160, 123, 199, 79, 62, 61, 52, 21, 170, 185, 71, 56, 74, 56, 116, 55, 15, 38, 250, 216, 26, 101, 262, 77, 110, 184, 225, 102, 73, 44, 196, 141, 11, 80, 114, 21, 184, 169, 93, 19, 60, 162, 179, 150, 121, 140, 80, 66, 36, 24, 148, 166, 209, 79, 190, 64, 16, 79, 73, 73, 181, 204, 215, 126, 152, 237, 37, 12, 19, 49, 110, 151, 86, 36, 99, 173, 11, 10, 77, 194, 86, 117, 29, 147, 118, 66, 118, 50, 50, 240, 42, 31, 7, 14, 93, 55, 50, 28, 102, 141, 21, 194, 32, 45, 175, 21, 162, 107, 121, 77, 49, 89, 137, 240, 32, 54, 108, 115, 115, 136, 91, 27, 56, 48, 12, 18, 44, 99, 158, 113, 80, 5, 232, 37, 18, 36, 52, 64, 61, 64, 24, 143, 16, 85, 79, 55, 79, 17, 164, 57, 78, 114, 28, 66, 101, 28, 138, 159, 44, 156, 85, 74, 58, 56, 27, 11, 112, 86, 220, 67, 131, 209, 185, 26, 162, 115, 28, 172, 173, 37, 61, 37, 14, 34, 56, 42, 79, 73, 80, 144, 21, 20, 126, 53, 203, 32, 118, 90, 189, 17, 118, 38, 65, 94, 74, 203, 167, 119, 203, 127, 89, 182, 40, 135, 14, 166, 147, 170, 24, 235, 138, 258, 115, 64, 40, 181, 30, 96, 25, 83, 188, 41, 118, 184, 73, 137, 98, 129, 182, 84, 57, 52, 16, 111, 53, 44, 168, 195, 105, 55, 185, 189, 158, 131, 13, 215, 18, 82, 69, 9, 52, 34, 203, 137, 246, 66, 221, 127, 119, 190, 35, 89, 236, 89, 89, 109, 12, 89, 52, 89, 74, 89, 89, 126, 89, 89, 164, 89, 89, 89, 89, 89, 89, 82, 24, 68, 35, 38, 226, 205, 51, 122, 25, 58, 161, 41, 103, 12, 34, 226, 22, 93, 92, 56, 116, 141, 41, 117, 177, 59, 17, 166, 74, 47, 163, 197, 44, 163, 148, 184, 94, 89, 55, 90, 99, 186, 243, 90, 127, 157, 64, 64, 54, 62, 90, 47, 178, 58, 90, 20, 144, 1, 97, 61, 184, 83, 185, 191, 53, 12, 43, 34, 137, 68, 82, 46, 90, 161, 90, 38, 103, 90, 74, 90, 85, 86, 92, 20, 90, 90, 90, 177, 83, 43, 120, 200, 186, 146, 200, 217, 192, 198, 118, 185, 191, 134, 111, 53, 50, 134, 43, 205, 53, 205, 138, 10, 105, 101, 148, 170, 26, 127, 54, 18, 44, 72, 172, 223, 226, 158, 83, 244, 165, 216, 51, 257, 52, 120, 28, 214, 101, 214, 87, 177, 217, 164, 56, 74, 192, 185, 19, 73, 54, 149, 69, 172, 131, 128, 61, 231, 42, 54, 101, 119, 12, 172, 213, 190, 147, 104, 202, 151, 108, 10, 61, 73, 114, 162, 267, 66, 59, 236, 139, 149, 188, 44, 23, 183, 49, 28, 165, 186, 234, 76, 20, 64, 208, 67, 220, 235, 226, 230, 231, 133, 232, 149, 32, 118, 159, 73, 26, 29, 173, 43, 249, 33, 98, 83, 104, 45, 137, 197, 92, 140, 146, 10, 75, 205, 229, 170, 225, 68, 59, 150, 105, 102, 153, 21, 64, 190, 230, 112, 98, 50, 131, 21, 114, 56, 149, 180, 104, 138, 47, 77, 115, 230, 235, 232, 123, 38, 123, 52, 93, 115, 109, 45, 154, 154, 154, 60, 22, 137, 48, 55, 67, 14, 26, 186], \"xaxis\": \"x\", \"yaxis\": \"y\"}],\n",
              "                        {\"barmode\": \"relative\", \"height\": 700, \"legend\": {\"tracegroupgap\": 0}, \"template\": {\"data\": {\"bar\": [{\"error_x\": {\"color\": \"#2a3f5f\"}, \"error_y\": {\"color\": \"#2a3f5f\"}, \"marker\": {\"line\": {\"color\": \"#E5ECF6\", \"width\": 0.5}}, \"type\": \"bar\"}], \"barpolar\": [{\"marker\": {\"line\": {\"color\": \"#E5ECF6\", \"width\": 0.5}}, \"type\": \"barpolar\"}], \"carpet\": [{\"aaxis\": {\"endlinecolor\": \"#2a3f5f\", \"gridcolor\": \"white\", \"linecolor\": \"white\", \"minorgridcolor\": \"white\", \"startlinecolor\": \"#2a3f5f\"}, \"baxis\": {\"endlinecolor\": \"#2a3f5f\", \"gridcolor\": \"white\", \"linecolor\": \"white\", \"minorgridcolor\": \"white\", \"startlinecolor\": \"#2a3f5f\"}, \"type\": \"carpet\"}], \"choropleth\": [{\"colorbar\": {\"outlinewidth\": 0, \"ticks\": \"\"}, \"type\": \"choropleth\"}], \"contour\": [{\"colorbar\": {\"outlinewidth\": 0, \"ticks\": \"\"}, \"colorscale\": [[0.0, \"#0d0887\"], [0.1111111111111111, \"#46039f\"], [0.2222222222222222, \"#7201a8\"], [0.3333333333333333, \"#9c179e\"], [0.4444444444444444, \"#bd3786\"], [0.5555555555555556, \"#d8576b\"], [0.6666666666666666, \"#ed7953\"], [0.7777777777777778, \"#fb9f3a\"], [0.8888888888888888, \"#fdca26\"], [1.0, \"#f0f921\"]], \"type\": \"contour\"}], \"contourcarpet\": [{\"colorbar\": {\"outlinewidth\": 0, \"ticks\": \"\"}, \"type\": \"contourcarpet\"}], \"heatmap\": [{\"colorbar\": {\"outlinewidth\": 0, \"ticks\": \"\"}, \"colorscale\": [[0.0, \"#0d0887\"], [0.1111111111111111, \"#46039f\"], [0.2222222222222222, \"#7201a8\"], [0.3333333333333333, \"#9c179e\"], [0.4444444444444444, \"#bd3786\"], [0.5555555555555556, \"#d8576b\"], [0.6666666666666666, \"#ed7953\"], [0.7777777777777778, \"#fb9f3a\"], [0.8888888888888888, \"#fdca26\"], [1.0, \"#f0f921\"]], \"type\": \"heatmap\"}], \"heatmapgl\": [{\"colorbar\": {\"outlinewidth\": 0, \"ticks\": \"\"}, \"colorscale\": [[0.0, \"#0d0887\"], [0.1111111111111111, \"#46039f\"], [0.2222222222222222, \"#7201a8\"], [0.3333333333333333, \"#9c179e\"], [0.4444444444444444, \"#bd3786\"], [0.5555555555555556, \"#d8576b\"], [0.6666666666666666, \"#ed7953\"], [0.7777777777777778, \"#fb9f3a\"], [0.8888888888888888, \"#fdca26\"], [1.0, \"#f0f921\"]], \"type\": \"heatmapgl\"}], \"histogram\": [{\"marker\": {\"colorbar\": {\"outlinewidth\": 0, \"ticks\": \"\"}}, \"type\": \"histogram\"}], \"histogram2d\": [{\"colorbar\": {\"outlinewidth\": 0, \"ticks\": \"\"}, \"colorscale\": [[0.0, \"#0d0887\"], [0.1111111111111111, \"#46039f\"], [0.2222222222222222, \"#7201a8\"], [0.3333333333333333, \"#9c179e\"], [0.4444444444444444, \"#bd3786\"], [0.5555555555555556, \"#d8576b\"], [0.6666666666666666, \"#ed7953\"], [0.7777777777777778, \"#fb9f3a\"], [0.8888888888888888, \"#fdca26\"], [1.0, \"#f0f921\"]], \"type\": \"histogram2d\"}], \"histogram2dcontour\": [{\"colorbar\": {\"outlinewidth\": 0, \"ticks\": \"\"}, \"colorscale\": [[0.0, \"#0d0887\"], [0.1111111111111111, \"#46039f\"], [0.2222222222222222, \"#7201a8\"], [0.3333333333333333, \"#9c179e\"], [0.4444444444444444, \"#bd3786\"], [0.5555555555555556, \"#d8576b\"], [0.6666666666666666, \"#ed7953\"], [0.7777777777777778, \"#fb9f3a\"], [0.8888888888888888, \"#fdca26\"], [1.0, \"#f0f921\"]], \"type\": \"histogram2dcontour\"}], \"mesh3d\": [{\"colorbar\": {\"outlinewidth\": 0, \"ticks\": \"\"}, \"type\": \"mesh3d\"}], \"parcoords\": [{\"line\": {\"colorbar\": {\"outlinewidth\": 0, \"ticks\": \"\"}}, \"type\": \"parcoords\"}], \"pie\": [{\"automargin\": true, \"type\": \"pie\"}], \"scatter\": [{\"marker\": {\"colorbar\": {\"outlinewidth\": 0, \"ticks\": \"\"}}, \"type\": \"scatter\"}], \"scatter3d\": [{\"line\": {\"colorbar\": {\"outlinewidth\": 0, \"ticks\": \"\"}}, \"marker\": {\"colorbar\": {\"outlinewidth\": 0, \"ticks\": \"\"}}, \"type\": \"scatter3d\"}], \"scattercarpet\": [{\"marker\": {\"colorbar\": {\"outlinewidth\": 0, \"ticks\": \"\"}}, \"type\": \"scattercarpet\"}], \"scattergeo\": [{\"marker\": {\"colorbar\": {\"outlinewidth\": 0, \"ticks\": \"\"}}, \"type\": \"scattergeo\"}], \"scattergl\": [{\"marker\": {\"colorbar\": {\"outlinewidth\": 0, \"ticks\": \"\"}}, \"type\": \"scattergl\"}], \"scattermapbox\": [{\"marker\": {\"colorbar\": {\"outlinewidth\": 0, \"ticks\": \"\"}}, \"type\": \"scattermapbox\"}], \"scatterpolar\": [{\"marker\": {\"colorbar\": {\"outlinewidth\": 0, \"ticks\": \"\"}}, \"type\": \"scatterpolar\"}], \"scatterpolargl\": [{\"marker\": {\"colorbar\": {\"outlinewidth\": 0, \"ticks\": \"\"}}, \"type\": \"scatterpolargl\"}], \"scatterternary\": [{\"marker\": {\"colorbar\": {\"outlinewidth\": 0, \"ticks\": \"\"}}, \"type\": \"scatterternary\"}], \"surface\": [{\"colorbar\": {\"outlinewidth\": 0, \"ticks\": \"\"}, \"colorscale\": [[0.0, \"#0d0887\"], [0.1111111111111111, \"#46039f\"], [0.2222222222222222, \"#7201a8\"], [0.3333333333333333, \"#9c179e\"], [0.4444444444444444, \"#bd3786\"], [0.5555555555555556, \"#d8576b\"], [0.6666666666666666, \"#ed7953\"], [0.7777777777777778, \"#fb9f3a\"], [0.8888888888888888, \"#fdca26\"], [1.0, \"#f0f921\"]], \"type\": \"surface\"}], \"table\": [{\"cells\": {\"fill\": {\"color\": \"#EBF0F8\"}, \"line\": {\"color\": \"white\"}}, \"header\": {\"fill\": {\"color\": \"#C8D4E3\"}, \"line\": {\"color\": \"white\"}}, \"type\": \"table\"}]}, \"layout\": {\"annotationdefaults\": {\"arrowcolor\": \"#2a3f5f\", \"arrowhead\": 0, \"arrowwidth\": 1}, \"coloraxis\": {\"colorbar\": {\"outlinewidth\": 0, \"ticks\": \"\"}}, \"colorscale\": {\"diverging\": [[0, \"#8e0152\"], [0.1, \"#c51b7d\"], [0.2, \"#de77ae\"], [0.3, \"#f1b6da\"], [0.4, \"#fde0ef\"], [0.5, \"#f7f7f7\"], [0.6, \"#e6f5d0\"], [0.7, \"#b8e186\"], [0.8, \"#7fbc41\"], [0.9, \"#4d9221\"], [1, \"#276419\"]], \"sequential\": [[0.0, \"#0d0887\"], [0.1111111111111111, \"#46039f\"], [0.2222222222222222, \"#7201a8\"], [0.3333333333333333, \"#9c179e\"], [0.4444444444444444, \"#bd3786\"], [0.5555555555555556, \"#d8576b\"], [0.6666666666666666, \"#ed7953\"], [0.7777777777777778, \"#fb9f3a\"], [0.8888888888888888, \"#fdca26\"], [1.0, \"#f0f921\"]], \"sequentialminus\": [[0.0, \"#0d0887\"], [0.1111111111111111, \"#46039f\"], [0.2222222222222222, \"#7201a8\"], [0.3333333333333333, \"#9c179e\"], [0.4444444444444444, \"#bd3786\"], [0.5555555555555556, \"#d8576b\"], [0.6666666666666666, \"#ed7953\"], [0.7777777777777778, \"#fb9f3a\"], [0.8888888888888888, \"#fdca26\"], [1.0, \"#f0f921\"]]}, \"colorway\": [\"#636efa\", \"#EF553B\", \"#00cc96\", \"#ab63fa\", \"#FFA15A\", \"#19d3f3\", \"#FF6692\", \"#B6E880\", \"#FF97FF\", \"#FECB52\"], \"font\": {\"color\": \"#2a3f5f\"}, \"geo\": {\"bgcolor\": \"white\", \"lakecolor\": \"white\", \"landcolor\": \"#E5ECF6\", \"showlakes\": true, \"showland\": true, \"subunitcolor\": \"white\"}, \"hoverlabel\": {\"align\": \"left\"}, \"hovermode\": \"closest\", \"mapbox\": {\"style\": \"light\"}, \"paper_bgcolor\": \"white\", \"plot_bgcolor\": \"#E5ECF6\", \"polar\": {\"angularaxis\": {\"gridcolor\": \"white\", \"linecolor\": \"white\", \"ticks\": \"\"}, \"bgcolor\": \"#E5ECF6\", \"radialaxis\": {\"gridcolor\": \"white\", \"linecolor\": \"white\", \"ticks\": \"\"}}, \"scene\": {\"xaxis\": {\"backgroundcolor\": \"#E5ECF6\", \"gridcolor\": \"white\", \"gridwidth\": 2, \"linecolor\": \"white\", \"showbackground\": true, \"ticks\": \"\", \"zerolinecolor\": \"white\"}, \"yaxis\": {\"backgroundcolor\": \"#E5ECF6\", \"gridcolor\": \"white\", \"gridwidth\": 2, \"linecolor\": \"white\", \"showbackground\": true, \"ticks\": \"\", \"zerolinecolor\": \"white\"}, \"zaxis\": {\"backgroundcolor\": \"#E5ECF6\", \"gridcolor\": \"white\", \"gridwidth\": 2, \"linecolor\": \"white\", \"showbackground\": true, \"ticks\": \"\", \"zerolinecolor\": \"white\"}}, \"shapedefaults\": {\"line\": {\"color\": \"#2a3f5f\"}}, \"ternary\": {\"aaxis\": {\"gridcolor\": \"white\", \"linecolor\": \"white\", \"ticks\": \"\"}, \"baxis\": {\"gridcolor\": \"white\", \"linecolor\": \"white\", \"ticks\": \"\"}, \"bgcolor\": \"#E5ECF6\", \"caxis\": {\"gridcolor\": \"white\", \"linecolor\": \"white\", \"ticks\": \"\"}}, \"title\": {\"x\": 0.05}, \"xaxis\": {\"automargin\": true, \"gridcolor\": \"white\", \"linecolor\": \"white\", \"ticks\": \"\", \"title\": {\"standoff\": 15}, \"zerolinecolor\": \"white\", \"zerolinewidth\": 2}, \"yaxis\": {\"automargin\": true, \"gridcolor\": \"white\", \"linecolor\": \"white\", \"ticks\": \"\", \"title\": {\"standoff\": 15}, \"zerolinecolor\": \"white\", \"zerolinewidth\": 2}}}, \"title\": {\"text\": \"Tweet length distribution\"}, \"width\": 800, \"xaxis\": {\"anchor\": \"y\", \"domain\": [0.0, 1.0], \"title\": {\"text\": \"tweet_length\"}}, \"yaxis\": {\"anchor\": \"x\", \"domain\": [0.0, 1.0], \"title\": {\"text\": \"count\"}}},\n",
              "                        {\"responsive\": true}\n",
              "                    ).then(function(){\n",
              "                            \n",
              "var gd = document.getElementById('4a6e5c2a-abcf-4355-8fc1-3807c33811a5');\n",
              "var x = new MutationObserver(function (mutations, observer) {{\n",
              "        var display = window.getComputedStyle(gd).display;\n",
              "        if (!display || display === 'none') {{\n",
              "            console.log([gd, 'removed!']);\n",
              "            Plotly.purge(gd);\n",
              "            observer.disconnect();\n",
              "        }}\n",
              "}});\n",
              "\n",
              "// Listen for the removal of the full notebook cells\n",
              "var notebookContainer = gd.closest('#notebook-container');\n",
              "if (notebookContainer) {{\n",
              "    x.observe(notebookContainer, {childList: true});\n",
              "}}\n",
              "\n",
              "// Listen for the clearing of the current output cell\n",
              "var outputEl = gd.closest('.output');\n",
              "if (outputEl) {{\n",
              "    x.observe(outputEl, {childList: true});\n",
              "}}\n",
              "\n",
              "                        })\n",
              "                };\n",
              "                \n",
              "            </script>\n",
              "        </div>\n",
              "</body>\n",
              "</html>"
            ]
          },
          "metadata": {
            "tags": []
          }
        }
      ]
    },
    {
      "cell_type": "code",
      "metadata": {
        "id": "V13GgsBjFlMO"
      },
      "source": [
        ""
      ],
      "execution_count": null,
      "outputs": []
    }
  ]
}